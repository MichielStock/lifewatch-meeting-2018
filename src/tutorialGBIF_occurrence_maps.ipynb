{
 "cells": [
  {
   "cell_type": "markdown",
   "metadata": {
    "slideshow": {
     "slide_type": "slide"
    }
   },
   "source": [
    "# <center>RGBIF<center>\n",
    "## <center>working with GBIF occurrence data in R<center>\n",
    "\n",
    "<center><img src=\"..\\images\\GBIF&R.png\"><center>"
   ]
  },
  {
   "cell_type": "markdown",
   "metadata": {
    "slideshow": {
     "slide_type": "subslide"
    }
   },
   "source": [
    "## <center>What is RGBIF?<center>"
   ]
  },
  {
   "cell_type": "markdown",
   "metadata": {
    "slideshow": {
     "slide_type": "fragment"
    }
   },
   "source": [
    "RGBIF is a **R wrapper** around the [GBIF API](https://www.gbif.org/developer/summary \"GBIF API\") to allow you to talk to GBIF from R."
   ]
  },
  {
   "cell_type": "markdown",
   "metadata": {
    "slideshow": {
     "slide_type": "slide"
    }
   },
   "source": [
    "## <center>RGBIF installation and loading libraries<center>"
   ]
  },
  {
   "cell_type": "markdown",
   "metadata": {
    "slideshow": {
     "slide_type": "fragment"
    }
   },
   "source": [
    "### <center>Installation<center>\n",
    "We can install RGBIF directly from CRAN as any other R package:\n",
    "```r\n",
    "install.packages(\"rgbif\")\n",
    "```"
   ]
  },
  {
   "cell_type": "markdown",
   "metadata": {
    "slideshow": {
     "slide_type": "subslide"
    }
   },
   "source": [
    "### <center>Load libraries<center>"
   ]
  },
  {
   "cell_type": "code",
   "execution_count": 7,
   "metadata": {
    "slideshow": {
     "slide_type": "skip"
    }
   },
   "outputs": [],
   "source": [
    "# Basic packages\n",
    "library(assertthat)\n",
    "library(stringr)"
   ]
  },
  {
   "cell_type": "code",
   "execution_count": 6,
   "metadata": {
    "slideshow": {
     "slide_type": "skip"
    }
   },
   "outputs": [],
   "source": [
    "# Tidyverse packages (not shown for brevity, still important to load!)\n",
    "library(purrr)\n",
    "library(dplyr)\n",
    "library(magrittr)\n",
    "library(tidyr)"
   ]
  },
  {
   "cell_type": "code",
   "execution_count": 4,
   "metadata": {
    "slideshow": {
     "slide_type": "skip"
    }
   },
   "outputs": [],
   "source": [
    "# Graphic packages (not shown for brevity, still important to load!)\n",
    "library(ggplot2)\n",
    "library(sp)\n",
    "library(ggmap)\n",
    "library(rgdal)\n",
    "library(leaflet)\n",
    "library(IRdisplay)"
   ]
  },
  {
   "cell_type": "code",
   "execution_count": 8,
   "metadata": {
    "slideshow": {
     "slide_type": "subslide"
    }
   },
   "outputs": [],
   "source": [
    "# RGBIF package\n",
    "library(rgbif)"
   ]
  },
  {
   "cell_type": "markdown",
   "metadata": {
    "slideshow": {
     "slide_type": "slide"
    }
   },
   "source": [
    "## <center>Download GBIF occurrences: `occ_data`<center>\n",
    "\n",
    "<center>download GBIF occurrence data *on the fly*<center>"
   ]
  },
  {
   "cell_type": "markdown",
   "metadata": {
    "slideshow": {
     "slide_type": "subslide"
    }
   },
   "source": [
    "### <center>Download GBIF occurrences: `occ_data`<center>\n",
    "\n",
    "* search species occurrences by \n",
    "    * scientific name (`scientificName` or `taxonKey` from the GBIF backbone),\n",
    "    * geographical areas (`country`, `continent`, `decimalLatitude` `decimalLongitude`, ...), \n",
    "    * temporal windows (`year`, `month`, ...),\n",
    "    * datasets, `datasetKey`\n",
    "\n",
    "Check [RGBIF documentation](https://cran.r-project.org/web/packages/rgbif/rgbif.pdf \"RGBIF\") for the full list of options.\n"
   ]
  },
  {
   "cell_type": "markdown",
   "metadata": {
    "slideshow": {
     "slide_type": "slide"
    }
   },
   "source": [
    "In this tutorial we search occurrences data of: \n",
    "* *Vanessa atalanta Linnaeus, 1758*, a butterfly, best known as red admiral. \n",
    "![Vanessa Atalanta](../images/VanessaAtalanta.jpg)"
   ]
  },
  {
   "cell_type": "code",
   "execution_count": 7,
   "metadata": {
    "slideshow": {
     "slide_type": "fragment"
    }
   },
   "outputs": [],
   "source": [
    "species <- \"Vanessa atalanta Linnaeus, 1758\""
   ]
  },
  {
   "cell_type": "markdown",
   "metadata": {
    "slideshow": {
     "slide_type": "subslide"
    }
   },
   "source": [
    "* during 2016"
   ]
  },
  {
   "cell_type": "code",
   "execution_count": 8,
   "metadata": {
    "slideshow": {
     "slide_type": "fragment"
    }
   },
   "outputs": [],
   "source": [
    "year <- 2016"
   ]
  },
  {
   "cell_type": "markdown",
   "metadata": {
    "slideshow": {
     "slide_type": "fragment"
    }
   },
   "source": [
    "* in Belgium"
   ]
  },
  {
   "cell_type": "code",
   "execution_count": 9,
   "metadata": {
    "slideshow": {
     "slide_type": "fragment"
    }
   },
   "outputs": [],
   "source": [
    "country <- \"BE\""
   ]
  },
  {
   "cell_type": "markdown",
   "metadata": {
    "slideshow": {
     "slide_type": "subslide"
    }
   },
   "source": [
    "```r\n",
    "occurrences <- rgbif::occ_data(\n",
    "                     scientificName = species, \n",
    "                     country =  country, \n",
    "                     year = year,\n",
    "                     limit = 200000)\n",
    "```"
   ]
  },
  {
   "cell_type": "code",
   "execution_count": 1,
   "metadata": {
    "slideshow": {
     "slide_type": "skip"
    }
   },
   "outputs": [],
   "source": [
    "load(\"../data/interim/occurrences.rda\") # used during presentation to not wait for getting occurrences via occ_data"
   ]
  },
  {
   "cell_type": "code",
   "execution_count": 11,
   "metadata": {
    "slideshow": {
     "slide_type": "subslide"
    }
   },
   "outputs": [
    {
     "data": {
      "text/html": [
       "<dl>\n",
       "\t<dt>$meta</dt>\n",
       "\t\t<dd><dl>\n",
       "\t<dt>$offset</dt>\n",
       "\t\t<dd>15600</dd>\n",
       "\t<dt>$limit</dt>\n",
       "\t\t<dd>220</dd>\n",
       "\t<dt>$endOfRecords</dt>\n",
       "\t\t<dd>TRUE</dd>\n",
       "\t<dt>$count</dt>\n",
       "\t\t<dd>15820</dd>\n",
       "</dl>\n",
       "</dd>\n",
       "\t<dt>$data</dt>\n",
       "\t\t<dd><table>\n",
       "<thead><tr><th scope=col>name</th><th scope=col>key</th><th scope=col>decimalLatitude</th><th scope=col>decimalLongitude</th><th scope=col>issues</th><th scope=col>datasetKey</th><th scope=col>publishingOrgKey</th><th scope=col>publishingCountry</th><th scope=col>protocol</th><th scope=col>lastCrawled</th><th scope=col>...</th><th scope=col>identifiedBy</th><th scope=col>sex</th><th scope=col>catalogNumber</th><th scope=col>collectionCode</th><th scope=col>dateIdentified</th><th scope=col>verbatimLocality</th><th scope=col>http://unknown.org/occurrenceDetails</th><th scope=col>rights</th><th scope=col>eventTime</th><th scope=col>identificationID</th></tr></thead>\n",
       "<tbody>\n",
       "\t<tr><td>Vanessa atalanta                    </td><td>1499553958                          </td><td>51.19077                            </td><td>4.75303                             </td><td>                                    </td><td>1f968e89-ca96-4065-91a5-4858e736b5aa</td><td>4d3ceea8-5699-439d-a899-decac9cbbdac</td><td>BE                                  </td><td>DWC_ARCHIVE                         </td><td>2017-09-30T14:26:42.352+0000        </td><td>...                                 </td><td>NA                                  </td><td>NA                                  </td><td>NA                                  </td><td>NA                                  </td><td>NA                                  </td><td>NA                                  </td><td>NA                                  </td><td>NA                                  </td><td>NA                                  </td><td>NA                                  </td></tr>\n",
       "\t<tr><td>Vanessa atalanta                    </td><td>1499572548                          </td><td>50.97084                            </td><td>4.38865                             </td><td>                                    </td><td>1f968e89-ca96-4065-91a5-4858e736b5aa</td><td>4d3ceea8-5699-439d-a899-decac9cbbdac</td><td>BE                                  </td><td>DWC_ARCHIVE                         </td><td>2017-09-30T14:26:54.096+0000        </td><td>...                                 </td><td>NA                                  </td><td>NA                                  </td><td>NA                                  </td><td>NA                                  </td><td>NA                                  </td><td>NA                                  </td><td>NA                                  </td><td>NA                                  </td><td>NA                                  </td><td>NA                                  </td></tr>\n",
       "\t<tr><td>Vanessa atalanta                    </td><td>1499565501                          </td><td>51.24053                            </td><td>4.39675                             </td><td>                                    </td><td>1f968e89-ca96-4065-91a5-4858e736b5aa</td><td>4d3ceea8-5699-439d-a899-decac9cbbdac</td><td>BE                                  </td><td>DWC_ARCHIVE                         </td><td>2017-09-30T14:26:49.427+0000        </td><td>...                                 </td><td>NA                                  </td><td>NA                                  </td><td>NA                                  </td><td>NA                                  </td><td>NA                                  </td><td>NA                                  </td><td>NA                                  </td><td>NA                                  </td><td>NA                                  </td><td>NA                                  </td></tr>\n",
       "\t<tr><td>Vanessa atalanta                    </td><td>1499558447                          </td><td>51.18613                            </td><td>5.03905                             </td><td>                                    </td><td>1f968e89-ca96-4065-91a5-4858e736b5aa</td><td>4d3ceea8-5699-439d-a899-decac9cbbdac</td><td>BE                                  </td><td>DWC_ARCHIVE                         </td><td>2017-09-30T14:26:45.526+0000        </td><td>...                                 </td><td>NA                                  </td><td>NA                                  </td><td>NA                                  </td><td>NA                                  </td><td>NA                                  </td><td>NA                                  </td><td>NA                                  </td><td>NA                                  </td><td>NA                                  </td><td>NA                                  </td></tr>\n",
       "\t<tr><td>Vanessa atalanta                    </td><td>1499580620                          </td><td>51.05133                            </td><td>5.03313                             </td><td>                                    </td><td>1f968e89-ca96-4065-91a5-4858e736b5aa</td><td>4d3ceea8-5699-439d-a899-decac9cbbdac</td><td>BE                                  </td><td>DWC_ARCHIVE                         </td><td>2017-09-30T14:26:59.173+0000        </td><td>...                                 </td><td>NA                                  </td><td>NA                                  </td><td>NA                                  </td><td>NA                                  </td><td>NA                                  </td><td>NA                                  </td><td>NA                                  </td><td>NA                                  </td><td>NA                                  </td><td>NA                                  </td></tr>\n",
       "\t<tr><td>Vanessa atalanta                    </td><td>1499572045                          </td><td>51.02209                            </td><td>3.67726                             </td><td>                                    </td><td>1f968e89-ca96-4065-91a5-4858e736b5aa</td><td>4d3ceea8-5699-439d-a899-decac9cbbdac</td><td>BE                                  </td><td>DWC_ARCHIVE                         </td><td>2017-09-30T14:26:53.611+0000        </td><td>...                                 </td><td>NA                                  </td><td>NA                                  </td><td>NA                                  </td><td>NA                                  </td><td>NA                                  </td><td>NA                                  </td><td>NA                                  </td><td>NA                                  </td><td>NA                                  </td><td>NA                                  </td></tr>\n",
       "\t<tr><td>Vanessa atalanta                    </td><td>1499577196                          </td><td>51.14976                            </td><td>4.46550                             </td><td>                                    </td><td>1f968e89-ca96-4065-91a5-4858e736b5aa</td><td>4d3ceea8-5699-439d-a899-decac9cbbdac</td><td>BE                                  </td><td>DWC_ARCHIVE                         </td><td>2017-09-30T14:26:56.957+0000        </td><td>...                                 </td><td>NA                                  </td><td>NA                                  </td><td>NA                                  </td><td>NA                                  </td><td>NA                                  </td><td>NA                                  </td><td>NA                                  </td><td>NA                                  </td><td>NA                                  </td><td>NA                                  </td></tr>\n",
       "\t<tr><td>Vanessa atalanta                    </td><td>1499560383                          </td><td>51.15802                            </td><td>3.46475                             </td><td>                                    </td><td>1f968e89-ca96-4065-91a5-4858e736b5aa</td><td>4d3ceea8-5699-439d-a899-decac9cbbdac</td><td>BE                                  </td><td>DWC_ARCHIVE                         </td><td>2017-09-30T14:26:46.573+0000        </td><td>...                                 </td><td>NA                                  </td><td>NA                                  </td><td>NA                                  </td><td>NA                                  </td><td>NA                                  </td><td>NA                                  </td><td>NA                                  </td><td>NA                                  </td><td>NA                                  </td><td>NA                                  </td></tr>\n",
       "\t<tr><td>Vanessa atalanta                    </td><td>1499556274                          </td><td>51.41943                            </td><td>4.47411                             </td><td>                                    </td><td>1f968e89-ca96-4065-91a5-4858e736b5aa</td><td>4d3ceea8-5699-439d-a899-decac9cbbdac</td><td>BE                                  </td><td>DWC_ARCHIVE                         </td><td>2017-09-30T14:26:43.809+0000        </td><td>...                                 </td><td>NA                                  </td><td>NA                                  </td><td>NA                                  </td><td>NA                                  </td><td>NA                                  </td><td>NA                                  </td><td>NA                                  </td><td>NA                                  </td><td>NA                                  </td><td>NA                                  </td></tr>\n",
       "\t<tr><td>Vanessa atalanta                    </td><td>1499553992                          </td><td>51.05133                            </td><td>5.03313                             </td><td>                                    </td><td>1f968e89-ca96-4065-91a5-4858e736b5aa</td><td>4d3ceea8-5699-439d-a899-decac9cbbdac</td><td>BE                                  </td><td>DWC_ARCHIVE                         </td><td>2017-09-30T14:26:42.416+0000        </td><td>...                                 </td><td>NA                                  </td><td>NA                                  </td><td>NA                                  </td><td>NA                                  </td><td>NA                                  </td><td>NA                                  </td><td>NA                                  </td><td>NA                                  </td><td>NA                                  </td><td>NA                                  </td></tr>\n",
       "\t<tr><td>Vanessa atalanta                    </td><td>1499559391                          </td><td>51.37260                            </td><td>4.61628                             </td><td>                                    </td><td>1f968e89-ca96-4065-91a5-4858e736b5aa</td><td>4d3ceea8-5699-439d-a899-decac9cbbdac</td><td>BE                                  </td><td>DWC_ARCHIVE                         </td><td>2017-09-30T14:26:46.056+0000        </td><td>...                                 </td><td>NA                                  </td><td>NA                                  </td><td>NA                                  </td><td>NA                                  </td><td>NA                                  </td><td>NA                                  </td><td>NA                                  </td><td>NA                                  </td><td>NA                                  </td><td>NA                                  </td></tr>\n",
       "\t<tr><td>Vanessa atalanta                    </td><td>1499562696                          </td><td>50.97714                            </td><td>3.67660                             </td><td>                                    </td><td>1f968e89-ca96-4065-91a5-4858e736b5aa</td><td>4d3ceea8-5699-439d-a899-decac9cbbdac</td><td>BE                                  </td><td>DWC_ARCHIVE                         </td><td>2017-09-30T14:26:47.910+0000        </td><td>...                                 </td><td>NA                                  </td><td>NA                                  </td><td>NA                                  </td><td>NA                                  </td><td>NA                                  </td><td>NA                                  </td><td>NA                                  </td><td>NA                                  </td><td>NA                                  </td><td>NA                                  </td></tr>\n",
       "\t<tr><td>Vanessa atalanta                    </td><td>1499564494                          </td><td>50.96498                            </td><td>4.81572                             </td><td>                                    </td><td>1f968e89-ca96-4065-91a5-4858e736b5aa</td><td>4d3ceea8-5699-439d-a899-decac9cbbdac</td><td>BE                                  </td><td>DWC_ARCHIVE                         </td><td>2017-09-30T14:26:48.900+0000        </td><td>...                                 </td><td>NA                                  </td><td>NA                                  </td><td>NA                                  </td><td>NA                                  </td><td>NA                                  </td><td>NA                                  </td><td>NA                                  </td><td>NA                                  </td><td>NA                                  </td><td>NA                                  </td></tr>\n",
       "\t<tr><td>Vanessa atalanta                    </td><td>1499574480                          </td><td>51.14360                            </td><td>4.89421                             </td><td>                                    </td><td>1f968e89-ca96-4065-91a5-4858e736b5aa</td><td>4d3ceea8-5699-439d-a899-decac9cbbdac</td><td>BE                                  </td><td>DWC_ARCHIVE                         </td><td>2017-09-30T14:26:55.213+0000        </td><td>...                                 </td><td>NA                                  </td><td>NA                                  </td><td>NA                                  </td><td>NA                                  </td><td>NA                                  </td><td>NA                                  </td><td>NA                                  </td><td>NA                                  </td><td>NA                                  </td><td>NA                                  </td></tr>\n",
       "\t<tr><td>Vanessa atalanta                    </td><td>1499556263                          </td><td>51.28548                            </td><td>4.39812                             </td><td>                                    </td><td>1f968e89-ca96-4065-91a5-4858e736b5aa</td><td>4d3ceea8-5699-439d-a899-decac9cbbdac</td><td>BE                                  </td><td>DWC_ARCHIVE                         </td><td>2017-09-30T14:26:43.793+0000        </td><td>...                                 </td><td>NA                                  </td><td>NA                                  </td><td>NA                                  </td><td>NA                                  </td><td>NA                                  </td><td>NA                                  </td><td>NA                                  </td><td>NA                                  </td><td>NA                                  </td><td>NA                                  </td></tr>\n",
       "\t<tr><td>Vanessa atalanta                    </td><td>1499560940                          </td><td>51.32765                            </td><td>4.61470                             </td><td>                                    </td><td>1f968e89-ca96-4065-91a5-4858e736b5aa</td><td>4d3ceea8-5699-439d-a899-decac9cbbdac</td><td>BE                                  </td><td>DWC_ARCHIVE                         </td><td>2017-09-30T14:26:46.909+0000        </td><td>...                                 </td><td>NA                                  </td><td>NA                                  </td><td>NA                                  </td><td>NA                                  </td><td>NA                                  </td><td>NA                                  </td><td>NA                                  </td><td>NA                                  </td><td>NA                                  </td><td>NA                                  </td></tr>\n",
       "\t<tr><td>Vanessa atalanta                    </td><td>1499568912                          </td><td>50.87034                            </td><td>5.09631                             </td><td>                                    </td><td>1f968e89-ca96-4065-91a5-4858e736b5aa</td><td>4d3ceea8-5699-439d-a899-decac9cbbdac</td><td>BE                                  </td><td>DWC_ARCHIVE                         </td><td>2017-09-30T14:26:51.752+0000        </td><td>...                                 </td><td>NA                                  </td><td>NA                                  </td><td>NA                                  </td><td>NA                                  </td><td>NA                                  </td><td>NA                                  </td><td>NA                                  </td><td>NA                                  </td><td>NA                                  </td><td>NA                                  </td></tr>\n",
       "\t<tr><td>Vanessa atalanta                    </td><td>1499575654                          </td><td>51.24136                            </td><td>4.32515                             </td><td>                                    </td><td>1f968e89-ca96-4065-91a5-4858e736b5aa</td><td>4d3ceea8-5699-439d-a899-decac9cbbdac</td><td>BE                                  </td><td>DWC_ARCHIVE                         </td><td>2017-09-30T14:26:55.952+0000        </td><td>...                                 </td><td>NA                                  </td><td>NA                                  </td><td>NA                                  </td><td>NA                                  </td><td>NA                                  </td><td>NA                                  </td><td>NA                                  </td><td>NA                                  </td><td>NA                                  </td><td>NA                                  </td></tr>\n",
       "\t<tr><td>Vanessa atalanta                    </td><td>1499558223                          </td><td>50.93400                            </td><td>3.17789                             </td><td>                                    </td><td>1f968e89-ca96-4065-91a5-4858e736b5aa</td><td>4d3ceea8-5699-439d-a899-decac9cbbdac</td><td>BE                                  </td><td>DWC_ARCHIVE                         </td><td>2017-09-30T14:26:45.369+0000        </td><td>...                                 </td><td>NA                                  </td><td>NA                                  </td><td>NA                                  </td><td>NA                                  </td><td>NA                                  </td><td>NA                                  </td><td>NA                                  </td><td>NA                                  </td><td>NA                                  </td><td>NA                                  </td></tr>\n",
       "\t<tr><td>Vanessa atalanta                    </td><td>1499567537                          </td><td>50.78293                            </td><td>4.95053                             </td><td>                                    </td><td>1f968e89-ca96-4065-91a5-4858e736b5aa</td><td>4d3ceea8-5699-439d-a899-decac9cbbdac</td><td>BE                                  </td><td>DWC_ARCHIVE                         </td><td>2017-09-30T14:26:50.675+0000        </td><td>...                                 </td><td>NA                                  </td><td>NA                                  </td><td>NA                                  </td><td>NA                                  </td><td>NA                                  </td><td>NA                                  </td><td>NA                                  </td><td>NA                                  </td><td>NA                                  </td><td>NA                                  </td></tr>\n",
       "\t<tr><td>Vanessa atalanta                    </td><td>1499569286                          </td><td>51.01814                            </td><td>4.17620                             </td><td>                                    </td><td>1f968e89-ca96-4065-91a5-4858e736b5aa</td><td>4d3ceea8-5699-439d-a899-decac9cbbdac</td><td>BE                                  </td><td>DWC_ARCHIVE                         </td><td>2017-09-30T14:26:52.010+0000        </td><td>...                                 </td><td>NA                                  </td><td>NA                                  </td><td>NA                                  </td><td>NA                                  </td><td>NA                                  </td><td>NA                                  </td><td>NA                                  </td><td>NA                                  </td><td>NA                                  </td><td>NA                                  </td></tr>\n",
       "\t<tr><td>Vanessa atalanta                    </td><td>1499556756                          </td><td>51.14788                            </td><td>4.60842                             </td><td>                                    </td><td>1f968e89-ca96-4065-91a5-4858e736b5aa</td><td>4d3ceea8-5699-439d-a899-decac9cbbdac</td><td>BE                                  </td><td>DWC_ARCHIVE                         </td><td>2017-09-30T14:26:44.303+0000        </td><td>...                                 </td><td>NA                                  </td><td>NA                                  </td><td>NA                                  </td><td>NA                                  </td><td>NA                                  </td><td>NA                                  </td><td>NA                                  </td><td>NA                                  </td><td>NA                                  </td><td>NA                                  </td></tr>\n",
       "\t<tr><td>Vanessa atalanta                    </td><td>1499573964                          </td><td>50.74523                            </td><td>4.45284                             </td><td>                                    </td><td>1f968e89-ca96-4065-91a5-4858e736b5aa</td><td>4d3ceea8-5699-439d-a899-decac9cbbdac</td><td>BE                                  </td><td>DWC_ARCHIVE                         </td><td>2017-09-30T14:26:54.930+0000        </td><td>...                                 </td><td>NA                                  </td><td>NA                                  </td><td>NA                                  </td><td>NA                                  </td><td>NA                                  </td><td>NA                                  </td><td>NA                                  </td><td>NA                                  </td><td>NA                                  </td><td>NA                                  </td></tr>\n",
       "\t<tr><td>Vanessa atalanta                    </td><td>1499579742                          </td><td>51.22279                            </td><td>5.47034                             </td><td>                                    </td><td>1f968e89-ca96-4065-91a5-4858e736b5aa</td><td>4d3ceea8-5699-439d-a899-decac9cbbdac</td><td>BE                                  </td><td>DWC_ARCHIVE                         </td><td>2017-09-30T14:26:58.704+0000        </td><td>...                                 </td><td>NA                                  </td><td>NA                                  </td><td>NA                                  </td><td>NA                                  </td><td>NA                                  </td><td>NA                                  </td><td>NA                                  </td><td>NA                                  </td><td>NA                                  </td><td>NA                                  </td></tr>\n",
       "\t<tr><td>Vanessa atalanta                    </td><td>1499553862                          </td><td>51.02401                            </td><td>3.10694                             </td><td>                                    </td><td>1f968e89-ca96-4065-91a5-4858e736b5aa</td><td>4d3ceea8-5699-439d-a899-decac9cbbdac</td><td>BE                                  </td><td>DWC_ARCHIVE                         </td><td>2017-09-30T14:26:42.377+0000        </td><td>...                                 </td><td>NA                                  </td><td>NA                                  </td><td>NA                                  </td><td>NA                                  </td><td>NA                                  </td><td>NA                                  </td><td>NA                                  </td><td>NA                                  </td><td>NA                                  </td><td>NA                                  </td></tr>\n",
       "\t<tr><td>Vanessa atalanta                    </td><td>1499559833                          </td><td>50.73554                            </td><td>5.09028                             </td><td>                                    </td><td>1f968e89-ca96-4065-91a5-4858e736b5aa</td><td>4d3ceea8-5699-439d-a899-decac9cbbdac</td><td>BE                                  </td><td>DWC_ARCHIVE                         </td><td>2017-09-30T14:26:46.172+0000        </td><td>...                                 </td><td>NA                                  </td><td>NA                                  </td><td>NA                                  </td><td>NA                                  </td><td>NA                                  </td><td>NA                                  </td><td>NA                                  </td><td>NA                                  </td><td>NA                                  </td><td>NA                                  </td></tr>\n",
       "\t<tr><td>Vanessa atalanta                    </td><td>1499571174                          </td><td>51.22279                            </td><td>5.47034                             </td><td>                                    </td><td>1f968e89-ca96-4065-91a5-4858e736b5aa</td><td>4d3ceea8-5699-439d-a899-decac9cbbdac</td><td>BE                                  </td><td>DWC_ARCHIVE                         </td><td>2017-09-30T14:26:53.341+0000        </td><td>...                                 </td><td>NA                                  </td><td>NA                                  </td><td>NA                                  </td><td>NA                                  </td><td>NA                                  </td><td>NA                                  </td><td>NA                                  </td><td>NA                                  </td><td>NA                                  </td><td>NA                                  </td></tr>\n",
       "\t<tr><td>Vanessa atalanta                    </td><td>1499560548                          </td><td>50.97570                            </td><td>3.89024                             </td><td>                                    </td><td>1f968e89-ca96-4065-91a5-4858e736b5aa</td><td>4d3ceea8-5699-439d-a899-decac9cbbdac</td><td>BE                                  </td><td>DWC_ARCHIVE                         </td><td>2017-09-30T14:26:46.688+0000        </td><td>...                                 </td><td>NA                                  </td><td>NA                                  </td><td>NA                                  </td><td>NA                                  </td><td>NA                                  </td><td>NA                                  </td><td>NA                                  </td><td>NA                                  </td><td>NA                                  </td><td>NA                                  </td></tr>\n",
       "\t<tr><td>Vanessa atalanta                    </td><td>1499567295                          </td><td>51.06901                            </td><td>3.03568                             </td><td>                                    </td><td>1f968e89-ca96-4065-91a5-4858e736b5aa</td><td>4d3ceea8-5699-439d-a899-decac9cbbdac</td><td>BE                                  </td><td>DWC_ARCHIVE                         </td><td>2017-09-30T14:26:50.657+0000        </td><td>...                                 </td><td>NA                                  </td><td>NA                                  </td><td>NA                                  </td><td>NA                                  </td><td>NA                                  </td><td>NA                                  </td><td>NA                                  </td><td>NA                                  </td><td>NA                                  </td><td>NA                                  </td></tr>\n",
       "\t<tr><td>Vanessa atalanta                    </td><td>1499579775                          </td><td>51.41943                            </td><td>4.47411                             </td><td>                                    </td><td>1f968e89-ca96-4065-91a5-4858e736b5aa</td><td>4d3ceea8-5699-439d-a899-decac9cbbdac</td><td>BE                                  </td><td>DWC_ARCHIVE                         </td><td>2017-09-30T14:26:58.733+0000        </td><td>...                                 </td><td>NA                                  </td><td>NA                                  </td><td>NA                                  </td><td>NA                                  </td><td>NA                                  </td><td>NA                                  </td><td>NA                                  </td><td>NA                                  </td><td>NA                                  </td><td>NA                                  </td></tr>\n",
       "\t<tr><td>...</td><td>...</td><td>...</td><td>...</td><td>...</td><td>...</td><td>...</td><td>...</td><td>...</td><td>...</td><td>   </td><td>...</td><td>...</td><td>...</td><td>...</td><td>...</td><td>...</td><td>...</td><td>...</td><td>...</td><td>...</td></tr>\n",
       "\t<tr><td>Vanessa atalanta                    </td><td>1499560820                          </td><td>50.82666                            </td><td>5.02335                             </td><td>                                    </td><td>1f968e89-ca96-4065-91a5-4858e736b5aa</td><td>4d3ceea8-5699-439d-a899-decac9cbbdac</td><td>BE                                  </td><td>DWC_ARCHIVE                         </td><td>2017-09-30T14:26:46.717+0000        </td><td>...                                 </td><td>NA                                  </td><td>NA                                  </td><td>NA                                  </td><td>NA                                  </td><td>NA                                  </td><td>NA                                  </td><td>NA                                  </td><td>NA                                  </td><td>NA                                  </td><td>NA                                  </td></tr>\n",
       "\t<tr><td>Vanessa atalanta                    </td><td>1499565253                          </td><td>51.15771                            </td><td>3.53624                             </td><td>                                    </td><td>1f968e89-ca96-4065-91a5-4858e736b5aa</td><td>4d3ceea8-5699-439d-a899-decac9cbbdac</td><td>BE                                  </td><td>DWC_ARCHIVE                         </td><td>2017-09-30T14:26:49.255+0000        </td><td>...                                 </td><td>NA                                  </td><td>NA                                  </td><td>NA                                  </td><td>NA                                  </td><td>NA                                  </td><td>NA                                  </td><td>NA                                  </td><td>NA                                  </td><td>NA                                  </td><td>NA                                  </td></tr>\n",
       "\t<tr><td>Vanessa atalanta                    </td><td>1499569022                          </td><td>51.09370                            </td><td>5.17780                             </td><td>                                    </td><td>1f968e89-ca96-4065-91a5-4858e736b5aa</td><td>4d3ceea8-5699-439d-a899-decac9cbbdac</td><td>BE                                  </td><td>DWC_ARCHIVE                         </td><td>2017-09-30T14:26:51.859+0000        </td><td>...                                 </td><td>NA                                  </td><td>NA                                  </td><td>NA                                  </td><td>NA                                  </td><td>NA                                  </td><td>NA                                  </td><td>NA                                  </td><td>NA                                  </td><td>NA                                  </td><td>NA                                  </td></tr>\n",
       "\t<tr><td>Vanessa atalanta                    </td><td>1499566366                          </td><td>51.04459                            </td><td>5.38951                             </td><td>                                    </td><td>1f968e89-ca96-4065-91a5-4858e736b5aa</td><td>4d3ceea8-5699-439d-a899-decac9cbbdac</td><td>BE                                  </td><td>DWC_ARCHIVE                         </td><td>2017-09-30T14:26:49.770+0000        </td><td>...                                 </td><td>NA                                  </td><td>NA                                  </td><td>NA                                  </td><td>NA                                  </td><td>NA                                  </td><td>NA                                  </td><td>NA                                  </td><td>NA                                  </td><td>NA                                  </td><td>NA                                  </td></tr>\n",
       "\t<tr><td>Vanessa atalanta                    </td><td>1499577591                          </td><td>50.88722                            </td><td>3.67530                             </td><td>                                    </td><td>1f968e89-ca96-4065-91a5-4858e736b5aa</td><td>4d3ceea8-5699-439d-a899-decac9cbbdac</td><td>BE                                  </td><td>DWC_ARCHIVE                         </td><td>2017-09-30T14:26:57.467+0000        </td><td>...                                 </td><td>NA                                  </td><td>NA                                  </td><td>NA                                  </td><td>NA                                  </td><td>NA                                  </td><td>NA                                  </td><td>NA                                  </td><td>NA                                  </td><td>NA                                  </td><td>NA                                  </td></tr>\n",
       "\t<tr><td>Vanessa atalanta                    </td><td>1499557497                          </td><td>51.11354                            </td><td>3.32144                             </td><td>                                    </td><td>1f968e89-ca96-4065-91a5-4858e736b5aa</td><td>4d3ceea8-5699-439d-a899-decac9cbbdac</td><td>BE                                  </td><td>DWC_ARCHIVE                         </td><td>2017-09-30T14:26:44.903+0000        </td><td>...                                 </td><td>NA                                  </td><td>NA                                  </td><td>NA                                  </td><td>NA                                  </td><td>NA                                  </td><td>NA                                  </td><td>NA                                  </td><td>NA                                  </td><td>NA                                  </td><td>NA                                  </td></tr>\n",
       "\t<tr><td>Vanessa atalanta                    </td><td>1499572778                          </td><td>50.78832                            </td><td>4.59605                             </td><td>                                    </td><td>1f968e89-ca96-4065-91a5-4858e736b5aa</td><td>4d3ceea8-5699-439d-a899-decac9cbbdac</td><td>BE                                  </td><td>DWC_ARCHIVE                         </td><td>2017-09-30T14:26:54.232+0000        </td><td>...                                 </td><td>NA                                  </td><td>NA                                  </td><td>NA                                  </td><td>NA                                  </td><td>NA                                  </td><td>NA                                  </td><td>NA                                  </td><td>NA                                  </td><td>NA                                  </td><td>NA                                  </td></tr>\n",
       "\t<tr><td>Vanessa atalanta                    </td><td>1499560975                          </td><td>51.00879                            </td><td>4.88871                             </td><td>                                    </td><td>1f968e89-ca96-4065-91a5-4858e736b5aa</td><td>4d3ceea8-5699-439d-a899-decac9cbbdac</td><td>BE                                  </td><td>DWC_ARCHIVE                         </td><td>2017-09-30T14:26:46.942+0000        </td><td>...                                 </td><td>NA                                  </td><td>NA                                  </td><td>NA                                  </td><td>NA                                  </td><td>NA                                  </td><td>NA                                  </td><td>NA                                  </td><td>NA                                  </td><td>NA                                  </td><td>NA                                  </td></tr>\n",
       "\t<tr><td>Vanessa atalanta                    </td><td>1499556971                          </td><td>50.75272                            </td><td>3.60248                             </td><td>                                    </td><td>1f968e89-ca96-4065-91a5-4858e736b5aa</td><td>4d3ceea8-5699-439d-a899-decac9cbbdac</td><td>BE                                  </td><td>DWC_ARCHIVE                         </td><td>2017-09-30T14:26:44.529+0000        </td><td>...                                 </td><td>NA                                  </td><td>NA                                  </td><td>NA                                  </td><td>NA                                  </td><td>NA                                  </td><td>NA                                  </td><td>NA                                  </td><td>NA                                  </td><td>NA                                  </td><td>NA                                  </td></tr>\n",
       "\t<tr><td>Vanessa atalanta                    </td><td>1499566757                          </td><td>50.78410                            </td><td>4.87964                             </td><td>                                    </td><td>1f968e89-ca96-4065-91a5-4858e736b5aa</td><td>4d3ceea8-5699-439d-a899-decac9cbbdac</td><td>BE                                  </td><td>DWC_ARCHIVE                         </td><td>2017-09-30T14:26:50.034+0000        </td><td>...                                 </td><td>NA                                  </td><td>NA                                  </td><td>NA                                  </td><td>NA                                  </td><td>NA                                  </td><td>NA                                  </td><td>NA                                  </td><td>NA                                  </td><td>NA                                  </td><td>NA                                  </td></tr>\n",
       "\t<tr><td>Vanessa atalanta                    </td><td>1499557479                          </td><td>51.11354                            </td><td>3.32144                             </td><td>                                    </td><td>1f968e89-ca96-4065-91a5-4858e736b5aa</td><td>4d3ceea8-5699-439d-a899-decac9cbbdac</td><td>BE                                  </td><td>DWC_ARCHIVE                         </td><td>2017-09-30T14:26:44.928+0000        </td><td>...                                 </td><td>NA                                  </td><td>NA                                  </td><td>NA                                  </td><td>NA                                  </td><td>NA                                  </td><td>NA                                  </td><td>NA                                  </td><td>NA                                  </td><td>NA                                  </td><td>NA                                  </td></tr>\n",
       "\t<tr><td>Vanessa atalanta                    </td><td>1499560058                          </td><td>50.83327                            </td><td>4.59758                             </td><td>                                    </td><td>1f968e89-ca96-4065-91a5-4858e736b5aa</td><td>4d3ceea8-5699-439d-a899-decac9cbbdac</td><td>BE                                  </td><td>DWC_ARCHIVE                         </td><td>2017-09-30T14:26:46.347+0000        </td><td>...                                 </td><td>NA                                  </td><td>NA                                  </td><td>NA                                  </td><td>NA                                  </td><td>NA                                  </td><td>NA                                  </td><td>NA                                  </td><td>NA                                  </td><td>NA                                  </td><td>NA                                  </td></tr>\n",
       "\t<tr><td>Vanessa atalanta                    </td><td>1499571956                          </td><td>51.11398                            </td><td>3.03572                             </td><td>                                    </td><td>1f968e89-ca96-4065-91a5-4858e736b5aa</td><td>4d3ceea8-5699-439d-a899-decac9cbbdac</td><td>BE                                  </td><td>DWC_ARCHIVE                         </td><td>2017-09-30T14:26:53.654+0000        </td><td>...                                 </td><td>NA                                  </td><td>NA                                  </td><td>NA                                  </td><td>NA                                  </td><td>NA                                  </td><td>NA                                  </td><td>NA                                  </td><td>NA                                  </td><td>NA                                  </td><td>NA                                  </td></tr>\n",
       "\t<tr><td>Vanessa atalanta                    </td><td>1499554509                          </td><td>50.84226                            </td><td>3.67465                             </td><td>                                    </td><td>1f968e89-ca96-4065-91a5-4858e736b5aa</td><td>4d3ceea8-5699-439d-a899-decac9cbbdac</td><td>BE                                  </td><td>DWC_ARCHIVE                         </td><td>2017-09-30T14:26:42.711+0000        </td><td>...                                 </td><td>NA                                  </td><td>NA                                  </td><td>NA                                  </td><td>NA                                  </td><td>NA                                  </td><td>NA                                  </td><td>NA                                  </td><td>NA                                  </td><td>NA                                  </td><td>NA                                  </td></tr>\n",
       "\t<tr><td>Vanessa atalanta                    </td><td>1499571534                          </td><td>51.06662                            </td><td>3.74927                             </td><td>                                    </td><td>1f968e89-ca96-4065-91a5-4858e736b5aa</td><td>4d3ceea8-5699-439d-a899-decac9cbbdac</td><td>BE                                  </td><td>DWC_ARCHIVE                         </td><td>2017-09-30T14:26:53.432+0000        </td><td>...                                 </td><td>NA                                  </td><td>NA                                  </td><td>NA                                  </td><td>NA                                  </td><td>NA                                  </td><td>NA                                  </td><td>NA                                  </td><td>NA                                  </td><td>NA                                  </td><td>NA                                  </td></tr>\n",
       "\t<tr><td>Vanessa atalanta                    </td><td>1499566627                          </td><td>51.06705                            </td><td>3.67791                             </td><td>                                    </td><td>1f968e89-ca96-4065-91a5-4858e736b5aa</td><td>4d3ceea8-5699-439d-a899-decac9cbbdac</td><td>BE                                  </td><td>DWC_ARCHIVE                         </td><td>2017-09-30T14:26:50.043+0000        </td><td>...                                 </td><td>NA                                  </td><td>NA                                  </td><td>NA                                  </td><td>NA                                  </td><td>NA                                  </td><td>NA                                  </td><td>NA                                  </td><td>NA                                  </td><td>NA                                  </td><td>NA                                  </td></tr>\n",
       "\t<tr><td>Vanessa atalanta                    </td><td>1499577549                          </td><td>50.86770                            </td><td>5.23832                             </td><td>                                    </td><td>1f968e89-ca96-4065-91a5-4858e736b5aa</td><td>4d3ceea8-5699-439d-a899-decac9cbbdac</td><td>BE                                  </td><td>DWC_ARCHIVE                         </td><td>2017-09-30T14:26:57.400+0000        </td><td>...                                 </td><td>NA                                  </td><td>NA                                  </td><td>NA                                  </td><td>NA                                  </td><td>NA                                  </td><td>NA                                  </td><td>NA                                  </td><td>NA                                  </td><td>NA                                  </td><td>NA                                  </td></tr>\n",
       "\t<tr><td>Vanessa atalanta                    </td><td>1499577789                          </td><td>50.94858                            </td><td>5.66935                             </td><td>                                    </td><td>1f968e89-ca96-4065-91a5-4858e736b5aa</td><td>4d3ceea8-5699-439d-a899-decac9cbbdac</td><td>BE                                  </td><td>DWC_ARCHIVE                         </td><td>2017-09-30T14:26:57.533+0000        </td><td>...                                 </td><td>NA                                  </td><td>NA                                  </td><td>NA                                  </td><td>NA                                  </td><td>NA                                  </td><td>NA                                  </td><td>NA                                  </td><td>NA                                  </td><td>NA                                  </td><td>NA                                  </td></tr>\n",
       "\t<tr><td>Vanessa atalanta                    </td><td>1499577186                          </td><td>51.15868                            </td><td>2.74975                             </td><td>                                    </td><td>1f968e89-ca96-4065-91a5-4858e736b5aa</td><td>4d3ceea8-5699-439d-a899-decac9cbbdac</td><td>BE                                  </td><td>DWC_ARCHIVE                         </td><td>2017-09-30T14:26:56.985+0000        </td><td>...                                 </td><td>NA                                  </td><td>NA                                  </td><td>NA                                  </td><td>NA                                  </td><td>NA                                  </td><td>NA                                  </td><td>NA                                  </td><td>NA                                  </td><td>NA                                  </td><td>NA                                  </td></tr>\n",
       "\t<tr><td>Vanessa atalanta                    </td><td>1499603899                          </td><td>51.22572                            </td><td>5.32726                             </td><td>                                    </td><td>1f968e89-ca96-4065-91a5-4858e736b5aa</td><td>4d3ceea8-5699-439d-a899-decac9cbbdac</td><td>BE                                  </td><td>DWC_ARCHIVE                         </td><td>2017-09-30T14:27:14.312+0000        </td><td>...                                 </td><td>NA                                  </td><td>NA                                  </td><td>NA                                  </td><td>NA                                  </td><td>NA                                  </td><td>NA                                  </td><td>NA                                  </td><td>NA                                  </td><td>NA                                  </td><td>NA                                  </td></tr>\n",
       "\t<tr><td>Vanessa atalanta                    </td><td>1499579806                          </td><td>50.81850                            </td><td>5.44894                             </td><td>                                    </td><td>1f968e89-ca96-4065-91a5-4858e736b5aa</td><td>4d3ceea8-5699-439d-a899-decac9cbbdac</td><td>BE                                  </td><td>DWC_ARCHIVE                         </td><td>2017-09-30T14:26:58.775+0000        </td><td>...                                 </td><td>NA                                  </td><td>NA                                  </td><td>NA                                  </td><td>NA                                  </td><td>NA                                  </td><td>NA                                  </td><td>NA                                  </td><td>NA                                  </td><td>NA                                  </td><td>NA                                  </td></tr>\n",
       "\t<tr><td>Vanessa atalanta                    </td><td>1499577960                          </td><td>50.75143                            </td><td>3.81510                             </td><td>                                    </td><td>1f968e89-ca96-4065-91a5-4858e736b5aa</td><td>4d3ceea8-5699-439d-a899-decac9cbbdac</td><td>BE                                  </td><td>DWC_ARCHIVE                         </td><td>2017-09-30T14:26:57.553+0000        </td><td>...                                 </td><td>NA                                  </td><td>NA                                  </td><td>NA                                  </td><td>NA                                  </td><td>NA                                  </td><td>NA                                  </td><td>NA                                  </td><td>NA                                  </td><td>NA                                  </td><td>NA                                  </td></tr>\n",
       "\t<tr><td>Vanessa atalanta                    </td><td>1499570217                          </td><td>51.28785                            </td><td>4.18308                             </td><td>                                    </td><td>1f968e89-ca96-4065-91a5-4858e736b5aa</td><td>4d3ceea8-5699-439d-a899-decac9cbbdac</td><td>BE                                  </td><td>DWC_ARCHIVE                         </td><td>2017-09-30T14:26:52.501+0000        </td><td>...                                 </td><td>NA                                  </td><td>NA                                  </td><td>NA                                  </td><td>NA                                  </td><td>NA                                  </td><td>NA                                  </td><td>NA                                  </td><td>NA                                  </td><td>NA                                  </td><td>NA                                  </td></tr>\n",
       "\t<tr><td>Vanessa atalanta                    </td><td>1499560253                          </td><td>50.79911                            </td><td>2.82263                             </td><td>                                    </td><td>1f968e89-ca96-4065-91a5-4858e736b5aa</td><td>4d3ceea8-5699-439d-a899-decac9cbbdac</td><td>BE                                  </td><td>DWC_ARCHIVE                         </td><td>2017-09-30T14:26:46.462+0000        </td><td>...                                 </td><td>NA                                  </td><td>NA                                  </td><td>NA                                  </td><td>NA                                  </td><td>NA                                  </td><td>NA                                  </td><td>NA                                  </td><td>NA                                  </td><td>NA                                  </td><td>NA                                  </td></tr>\n",
       "\t<tr><td>Vanessa atalanta                    </td><td>1499554376                          </td><td>51.02009                            </td><td>3.96238                             </td><td>                                    </td><td>1f968e89-ca96-4065-91a5-4858e736b5aa</td><td>4d3ceea8-5699-439d-a899-decac9cbbdac</td><td>BE                                  </td><td>DWC_ARCHIVE                         </td><td>2017-09-30T14:26:42.681+0000        </td><td>...                                 </td><td>NA                                  </td><td>NA                                  </td><td>NA                                  </td><td>NA                                  </td><td>NA                                  </td><td>NA                                  </td><td>NA                                  </td><td>NA                                  </td><td>NA                                  </td><td>NA                                  </td></tr>\n",
       "\t<tr><td>Vanessa atalanta                    </td><td>1499577811                          </td><td>50.83681                            </td><td>4.31366                             </td><td>                                    </td><td>1f968e89-ca96-4065-91a5-4858e736b5aa</td><td>4d3ceea8-5699-439d-a899-decac9cbbdac</td><td>BE                                  </td><td>DWC_ARCHIVE                         </td><td>2017-09-30T14:26:57.469+0000        </td><td>...                                 </td><td>NA                                  </td><td>NA                                  </td><td>NA                                  </td><td>NA                                  </td><td>NA                                  </td><td>NA                                  </td><td>NA                                  </td><td>NA                                  </td><td>NA                                  </td><td>NA                                  </td></tr>\n",
       "\t<tr><td>Vanessa atalanta                    </td><td>1499554383                          </td><td>51.32449                            </td><td>4.82989                             </td><td>                                    </td><td>1f968e89-ca96-4065-91a5-4858e736b5aa</td><td>4d3ceea8-5699-439d-a899-decac9cbbdac</td><td>BE                                  </td><td>DWC_ARCHIVE                         </td><td>2017-09-30T14:26:42.701+0000        </td><td>...                                 </td><td>NA                                  </td><td>NA                                  </td><td>NA                                  </td><td>NA                                  </td><td>NA                                  </td><td>NA                                  </td><td>NA                                  </td><td>NA                                  </td><td>NA                                  </td><td>NA                                  </td></tr>\n",
       "\t<tr><td>Vanessa atalanta                    </td><td>1499560167                          </td><td>50.84377                            </td><td>3.31958                             </td><td>                                    </td><td>1f968e89-ca96-4065-91a5-4858e736b5aa</td><td>4d3ceea8-5699-439d-a899-decac9cbbdac</td><td>BE                                  </td><td>DWC_ARCHIVE                         </td><td>2017-09-30T14:26:46.458+0000        </td><td>...                                 </td><td>NA                                  </td><td>NA                                  </td><td>NA                                  </td><td>NA                                  </td><td>NA                                  </td><td>NA                                  </td><td>NA                                  </td><td>NA                                  </td><td>NA                                  </td><td>NA                                  </td></tr>\n",
       "\t<tr><td>Vanessa atalanta                    </td><td>1499563564                          </td><td>50.73291                            </td><td>5.23188                             </td><td>                                    </td><td>1f968e89-ca96-4065-91a5-4858e736b5aa</td><td>4d3ceea8-5699-439d-a899-decac9cbbdac</td><td>BE                                  </td><td>DWC_ARCHIVE                         </td><td>2017-09-30T14:26:48.316+0000        </td><td>...                                 </td><td>NA                                  </td><td>NA                                  </td><td>NA                                  </td><td>NA                                  </td><td>NA                                  </td><td>NA                                  </td><td>NA                                  </td><td>NA                                  </td><td>NA                                  </td><td>NA                                  </td></tr>\n",
       "\t<tr><td>Vanessa atalanta                    </td><td>1499570184                          </td><td>51.19992                            </td><td>3.96612                             </td><td>                                    </td><td>1f968e89-ca96-4065-91a5-4858e736b5aa</td><td>4d3ceea8-5699-439d-a899-decac9cbbdac</td><td>BE                                  </td><td>DWC_ARCHIVE                         </td><td>2017-09-30T14:26:52.573+0000        </td><td>...                                 </td><td>NA                                  </td><td>NA                                  </td><td>NA                                  </td><td>NA                                  </td><td>NA                                  </td><td>NA                                  </td><td>NA                                  </td><td>NA                                  </td><td>NA                                  </td><td>NA                                  </td></tr>\n",
       "</tbody>\n",
       "</table>\n",
       "</dd>\n",
       "</dl>\n"
      ],
      "text/latex": [
       "\\begin{description}\n",
       "\\item[\\$meta] \\begin{description}\n",
       "\\item[\\$offset] 15600\n",
       "\\item[\\$limit] 220\n",
       "\\item[\\$endOfRecords] TRUE\n",
       "\\item[\\$count] 15820\n",
       "\\end{description}\n",
       "\n",
       "\\item[\\$data] \\begin{tabular}{r|llllllllllllllllllllllllllllllllllllllllllllllllllllllllllllllllllllllllllllllllllllllll}\n",
       " name & key & decimalLatitude & decimalLongitude & issues & datasetKey & publishingOrgKey & publishingCountry & protocol & lastCrawled & ... & identifiedBy & sex & catalogNumber & collectionCode & dateIdentified & verbatimLocality & http://unknown.org/occurrenceDetails & rights & eventTime & identificationID\\\\\n",
       "\\hline\n",
       "\t Vanessa atalanta                     & 1499553958                           & 51.19077                             & 4.75303                              &                                      & 1f968e89-ca96-4065-91a5-4858e736b5aa & 4d3ceea8-5699-439d-a899-decac9cbbdac & BE                                   & DWC\\_ARCHIVE                        & 2017-09-30T14:26:42.352+0000         & ...                                  & NA                                   & NA                                   & NA                                   & NA                                   & NA                                   & NA                                   & NA                                   & NA                                   & NA                                   & NA                                  \\\\\n",
       "\t Vanessa atalanta                     & 1499572548                           & 50.97084                             & 4.38865                              &                                      & 1f968e89-ca96-4065-91a5-4858e736b5aa & 4d3ceea8-5699-439d-a899-decac9cbbdac & BE                                   & DWC\\_ARCHIVE                        & 2017-09-30T14:26:54.096+0000         & ...                                  & NA                                   & NA                                   & NA                                   & NA                                   & NA                                   & NA                                   & NA                                   & NA                                   & NA                                   & NA                                  \\\\\n",
       "\t Vanessa atalanta                     & 1499565501                           & 51.24053                             & 4.39675                              &                                      & 1f968e89-ca96-4065-91a5-4858e736b5aa & 4d3ceea8-5699-439d-a899-decac9cbbdac & BE                                   & DWC\\_ARCHIVE                        & 2017-09-30T14:26:49.427+0000         & ...                                  & NA                                   & NA                                   & NA                                   & NA                                   & NA                                   & NA                                   & NA                                   & NA                                   & NA                                   & NA                                  \\\\\n",
       "\t Vanessa atalanta                     & 1499558447                           & 51.18613                             & 5.03905                              &                                      & 1f968e89-ca96-4065-91a5-4858e736b5aa & 4d3ceea8-5699-439d-a899-decac9cbbdac & BE                                   & DWC\\_ARCHIVE                        & 2017-09-30T14:26:45.526+0000         & ...                                  & NA                                   & NA                                   & NA                                   & NA                                   & NA                                   & NA                                   & NA                                   & NA                                   & NA                                   & NA                                  \\\\\n",
       "\t Vanessa atalanta                     & 1499580620                           & 51.05133                             & 5.03313                              &                                      & 1f968e89-ca96-4065-91a5-4858e736b5aa & 4d3ceea8-5699-439d-a899-decac9cbbdac & BE                                   & DWC\\_ARCHIVE                        & 2017-09-30T14:26:59.173+0000         & ...                                  & NA                                   & NA                                   & NA                                   & NA                                   & NA                                   & NA                                   & NA                                   & NA                                   & NA                                   & NA                                  \\\\\n",
       "\t Vanessa atalanta                     & 1499572045                           & 51.02209                             & 3.67726                              &                                      & 1f968e89-ca96-4065-91a5-4858e736b5aa & 4d3ceea8-5699-439d-a899-decac9cbbdac & BE                                   & DWC\\_ARCHIVE                        & 2017-09-30T14:26:53.611+0000         & ...                                  & NA                                   & NA                                   & NA                                   & NA                                   & NA                                   & NA                                   & NA                                   & NA                                   & NA                                   & NA                                  \\\\\n",
       "\t Vanessa atalanta                     & 1499577196                           & 51.14976                             & 4.46550                              &                                      & 1f968e89-ca96-4065-91a5-4858e736b5aa & 4d3ceea8-5699-439d-a899-decac9cbbdac & BE                                   & DWC\\_ARCHIVE                        & 2017-09-30T14:26:56.957+0000         & ...                                  & NA                                   & NA                                   & NA                                   & NA                                   & NA                                   & NA                                   & NA                                   & NA                                   & NA                                   & NA                                  \\\\\n",
       "\t Vanessa atalanta                     & 1499560383                           & 51.15802                             & 3.46475                              &                                      & 1f968e89-ca96-4065-91a5-4858e736b5aa & 4d3ceea8-5699-439d-a899-decac9cbbdac & BE                                   & DWC\\_ARCHIVE                        & 2017-09-30T14:26:46.573+0000         & ...                                  & NA                                   & NA                                   & NA                                   & NA                                   & NA                                   & NA                                   & NA                                   & NA                                   & NA                                   & NA                                  \\\\\n",
       "\t Vanessa atalanta                     & 1499556274                           & 51.41943                             & 4.47411                              &                                      & 1f968e89-ca96-4065-91a5-4858e736b5aa & 4d3ceea8-5699-439d-a899-decac9cbbdac & BE                                   & DWC\\_ARCHIVE                        & 2017-09-30T14:26:43.809+0000         & ...                                  & NA                                   & NA                                   & NA                                   & NA                                   & NA                                   & NA                                   & NA                                   & NA                                   & NA                                   & NA                                  \\\\\n",
       "\t Vanessa atalanta                     & 1499553992                           & 51.05133                             & 5.03313                              &                                      & 1f968e89-ca96-4065-91a5-4858e736b5aa & 4d3ceea8-5699-439d-a899-decac9cbbdac & BE                                   & DWC\\_ARCHIVE                        & 2017-09-30T14:26:42.416+0000         & ...                                  & NA                                   & NA                                   & NA                                   & NA                                   & NA                                   & NA                                   & NA                                   & NA                                   & NA                                   & NA                                  \\\\\n",
       "\t Vanessa atalanta                     & 1499559391                           & 51.37260                             & 4.61628                              &                                      & 1f968e89-ca96-4065-91a5-4858e736b5aa & 4d3ceea8-5699-439d-a899-decac9cbbdac & BE                                   & DWC\\_ARCHIVE                        & 2017-09-30T14:26:46.056+0000         & ...                                  & NA                                   & NA                                   & NA                                   & NA                                   & NA                                   & NA                                   & NA                                   & NA                                   & NA                                   & NA                                  \\\\\n",
       "\t Vanessa atalanta                     & 1499562696                           & 50.97714                             & 3.67660                              &                                      & 1f968e89-ca96-4065-91a5-4858e736b5aa & 4d3ceea8-5699-439d-a899-decac9cbbdac & BE                                   & DWC\\_ARCHIVE                        & 2017-09-30T14:26:47.910+0000         & ...                                  & NA                                   & NA                                   & NA                                   & NA                                   & NA                                   & NA                                   & NA                                   & NA                                   & NA                                   & NA                                  \\\\\n",
       "\t Vanessa atalanta                     & 1499564494                           & 50.96498                             & 4.81572                              &                                      & 1f968e89-ca96-4065-91a5-4858e736b5aa & 4d3ceea8-5699-439d-a899-decac9cbbdac & BE                                   & DWC\\_ARCHIVE                        & 2017-09-30T14:26:48.900+0000         & ...                                  & NA                                   & NA                                   & NA                                   & NA                                   & NA                                   & NA                                   & NA                                   & NA                                   & NA                                   & NA                                  \\\\\n",
       "\t Vanessa atalanta                     & 1499574480                           & 51.14360                             & 4.89421                              &                                      & 1f968e89-ca96-4065-91a5-4858e736b5aa & 4d3ceea8-5699-439d-a899-decac9cbbdac & BE                                   & DWC\\_ARCHIVE                        & 2017-09-30T14:26:55.213+0000         & ...                                  & NA                                   & NA                                   & NA                                   & NA                                   & NA                                   & NA                                   & NA                                   & NA                                   & NA                                   & NA                                  \\\\\n",
       "\t Vanessa atalanta                     & 1499556263                           & 51.28548                             & 4.39812                              &                                      & 1f968e89-ca96-4065-91a5-4858e736b5aa & 4d3ceea8-5699-439d-a899-decac9cbbdac & BE                                   & DWC\\_ARCHIVE                        & 2017-09-30T14:26:43.793+0000         & ...                                  & NA                                   & NA                                   & NA                                   & NA                                   & NA                                   & NA                                   & NA                                   & NA                                   & NA                                   & NA                                  \\\\\n",
       "\t Vanessa atalanta                     & 1499560940                           & 51.32765                             & 4.61470                              &                                      & 1f968e89-ca96-4065-91a5-4858e736b5aa & 4d3ceea8-5699-439d-a899-decac9cbbdac & BE                                   & DWC\\_ARCHIVE                        & 2017-09-30T14:26:46.909+0000         & ...                                  & NA                                   & NA                                   & NA                                   & NA                                   & NA                                   & NA                                   & NA                                   & NA                                   & NA                                   & NA                                  \\\\\n",
       "\t Vanessa atalanta                     & 1499568912                           & 50.87034                             & 5.09631                              &                                      & 1f968e89-ca96-4065-91a5-4858e736b5aa & 4d3ceea8-5699-439d-a899-decac9cbbdac & BE                                   & DWC\\_ARCHIVE                        & 2017-09-30T14:26:51.752+0000         & ...                                  & NA                                   & NA                                   & NA                                   & NA                                   & NA                                   & NA                                   & NA                                   & NA                                   & NA                                   & NA                                  \\\\\n",
       "\t Vanessa atalanta                     & 1499575654                           & 51.24136                             & 4.32515                              &                                      & 1f968e89-ca96-4065-91a5-4858e736b5aa & 4d3ceea8-5699-439d-a899-decac9cbbdac & BE                                   & DWC\\_ARCHIVE                        & 2017-09-30T14:26:55.952+0000         & ...                                  & NA                                   & NA                                   & NA                                   & NA                                   & NA                                   & NA                                   & NA                                   & NA                                   & NA                                   & NA                                  \\\\\n",
       "\t Vanessa atalanta                     & 1499558223                           & 50.93400                             & 3.17789                              &                                      & 1f968e89-ca96-4065-91a5-4858e736b5aa & 4d3ceea8-5699-439d-a899-decac9cbbdac & BE                                   & DWC\\_ARCHIVE                        & 2017-09-30T14:26:45.369+0000         & ...                                  & NA                                   & NA                                   & NA                                   & NA                                   & NA                                   & NA                                   & NA                                   & NA                                   & NA                                   & NA                                  \\\\\n",
       "\t Vanessa atalanta                     & 1499567537                           & 50.78293                             & 4.95053                              &                                      & 1f968e89-ca96-4065-91a5-4858e736b5aa & 4d3ceea8-5699-439d-a899-decac9cbbdac & BE                                   & DWC\\_ARCHIVE                        & 2017-09-30T14:26:50.675+0000         & ...                                  & NA                                   & NA                                   & NA                                   & NA                                   & NA                                   & NA                                   & NA                                   & NA                                   & NA                                   & NA                                  \\\\\n",
       "\t Vanessa atalanta                     & 1499569286                           & 51.01814                             & 4.17620                              &                                      & 1f968e89-ca96-4065-91a5-4858e736b5aa & 4d3ceea8-5699-439d-a899-decac9cbbdac & BE                                   & DWC\\_ARCHIVE                        & 2017-09-30T14:26:52.010+0000         & ...                                  & NA                                   & NA                                   & NA                                   & NA                                   & NA                                   & NA                                   & NA                                   & NA                                   & NA                                   & NA                                  \\\\\n",
       "\t Vanessa atalanta                     & 1499556756                           & 51.14788                             & 4.60842                              &                                      & 1f968e89-ca96-4065-91a5-4858e736b5aa & 4d3ceea8-5699-439d-a899-decac9cbbdac & BE                                   & DWC\\_ARCHIVE                        & 2017-09-30T14:26:44.303+0000         & ...                                  & NA                                   & NA                                   & NA                                   & NA                                   & NA                                   & NA                                   & NA                                   & NA                                   & NA                                   & NA                                  \\\\\n",
       "\t Vanessa atalanta                     & 1499573964                           & 50.74523                             & 4.45284                              &                                      & 1f968e89-ca96-4065-91a5-4858e736b5aa & 4d3ceea8-5699-439d-a899-decac9cbbdac & BE                                   & DWC\\_ARCHIVE                        & 2017-09-30T14:26:54.930+0000         & ...                                  & NA                                   & NA                                   & NA                                   & NA                                   & NA                                   & NA                                   & NA                                   & NA                                   & NA                                   & NA                                  \\\\\n",
       "\t Vanessa atalanta                     & 1499579742                           & 51.22279                             & 5.47034                              &                                      & 1f968e89-ca96-4065-91a5-4858e736b5aa & 4d3ceea8-5699-439d-a899-decac9cbbdac & BE                                   & DWC\\_ARCHIVE                        & 2017-09-30T14:26:58.704+0000         & ...                                  & NA                                   & NA                                   & NA                                   & NA                                   & NA                                   & NA                                   & NA                                   & NA                                   & NA                                   & NA                                  \\\\\n",
       "\t Vanessa atalanta                     & 1499553862                           & 51.02401                             & 3.10694                              &                                      & 1f968e89-ca96-4065-91a5-4858e736b5aa & 4d3ceea8-5699-439d-a899-decac9cbbdac & BE                                   & DWC\\_ARCHIVE                        & 2017-09-30T14:26:42.377+0000         & ...                                  & NA                                   & NA                                   & NA                                   & NA                                   & NA                                   & NA                                   & NA                                   & NA                                   & NA                                   & NA                                  \\\\\n",
       "\t Vanessa atalanta                     & 1499559833                           & 50.73554                             & 5.09028                              &                                      & 1f968e89-ca96-4065-91a5-4858e736b5aa & 4d3ceea8-5699-439d-a899-decac9cbbdac & BE                                   & DWC\\_ARCHIVE                        & 2017-09-30T14:26:46.172+0000         & ...                                  & NA                                   & NA                                   & NA                                   & NA                                   & NA                                   & NA                                   & NA                                   & NA                                   & NA                                   & NA                                  \\\\\n",
       "\t Vanessa atalanta                     & 1499571174                           & 51.22279                             & 5.47034                              &                                      & 1f968e89-ca96-4065-91a5-4858e736b5aa & 4d3ceea8-5699-439d-a899-decac9cbbdac & BE                                   & DWC\\_ARCHIVE                        & 2017-09-30T14:26:53.341+0000         & ...                                  & NA                                   & NA                                   & NA                                   & NA                                   & NA                                   & NA                                   & NA                                   & NA                                   & NA                                   & NA                                  \\\\\n",
       "\t Vanessa atalanta                     & 1499560548                           & 50.97570                             & 3.89024                              &                                      & 1f968e89-ca96-4065-91a5-4858e736b5aa & 4d3ceea8-5699-439d-a899-decac9cbbdac & BE                                   & DWC\\_ARCHIVE                        & 2017-09-30T14:26:46.688+0000         & ...                                  & NA                                   & NA                                   & NA                                   & NA                                   & NA                                   & NA                                   & NA                                   & NA                                   & NA                                   & NA                                  \\\\\n",
       "\t Vanessa atalanta                     & 1499567295                           & 51.06901                             & 3.03568                              &                                      & 1f968e89-ca96-4065-91a5-4858e736b5aa & 4d3ceea8-5699-439d-a899-decac9cbbdac & BE                                   & DWC\\_ARCHIVE                        & 2017-09-30T14:26:50.657+0000         & ...                                  & NA                                   & NA                                   & NA                                   & NA                                   & NA                                   & NA                                   & NA                                   & NA                                   & NA                                   & NA                                  \\\\\n",
       "\t Vanessa atalanta                     & 1499579775                           & 51.41943                             & 4.47411                              &                                      & 1f968e89-ca96-4065-91a5-4858e736b5aa & 4d3ceea8-5699-439d-a899-decac9cbbdac & BE                                   & DWC\\_ARCHIVE                        & 2017-09-30T14:26:58.733+0000         & ...                                  & NA                                   & NA                                   & NA                                   & NA                                   & NA                                   & NA                                   & NA                                   & NA                                   & NA                                   & NA                                  \\\\\n",
       "\t ... & ... & ... & ... & ... & ... & ... & ... & ... & ... &     & ... & ... & ... & ... & ... & ... & ... & ... & ... & ...\\\\\n",
       "\t Vanessa atalanta                     & 1499560820                           & 50.82666                             & 5.02335                              &                                      & 1f968e89-ca96-4065-91a5-4858e736b5aa & 4d3ceea8-5699-439d-a899-decac9cbbdac & BE                                   & DWC\\_ARCHIVE                        & 2017-09-30T14:26:46.717+0000         & ...                                  & NA                                   & NA                                   & NA                                   & NA                                   & NA                                   & NA                                   & NA                                   & NA                                   & NA                                   & NA                                  \\\\\n",
       "\t Vanessa atalanta                     & 1499565253                           & 51.15771                             & 3.53624                              &                                      & 1f968e89-ca96-4065-91a5-4858e736b5aa & 4d3ceea8-5699-439d-a899-decac9cbbdac & BE                                   & DWC\\_ARCHIVE                        & 2017-09-30T14:26:49.255+0000         & ...                                  & NA                                   & NA                                   & NA                                   & NA                                   & NA                                   & NA                                   & NA                                   & NA                                   & NA                                   & NA                                  \\\\\n",
       "\t Vanessa atalanta                     & 1499569022                           & 51.09370                             & 5.17780                              &                                      & 1f968e89-ca96-4065-91a5-4858e736b5aa & 4d3ceea8-5699-439d-a899-decac9cbbdac & BE                                   & DWC\\_ARCHIVE                        & 2017-09-30T14:26:51.859+0000         & ...                                  & NA                                   & NA                                   & NA                                   & NA                                   & NA                                   & NA                                   & NA                                   & NA                                   & NA                                   & NA                                  \\\\\n",
       "\t Vanessa atalanta                     & 1499566366                           & 51.04459                             & 5.38951                              &                                      & 1f968e89-ca96-4065-91a5-4858e736b5aa & 4d3ceea8-5699-439d-a899-decac9cbbdac & BE                                   & DWC\\_ARCHIVE                        & 2017-09-30T14:26:49.770+0000         & ...                                  & NA                                   & NA                                   & NA                                   & NA                                   & NA                                   & NA                                   & NA                                   & NA                                   & NA                                   & NA                                  \\\\\n",
       "\t Vanessa atalanta                     & 1499577591                           & 50.88722                             & 3.67530                              &                                      & 1f968e89-ca96-4065-91a5-4858e736b5aa & 4d3ceea8-5699-439d-a899-decac9cbbdac & BE                                   & DWC\\_ARCHIVE                        & 2017-09-30T14:26:57.467+0000         & ...                                  & NA                                   & NA                                   & NA                                   & NA                                   & NA                                   & NA                                   & NA                                   & NA                                   & NA                                   & NA                                  \\\\\n",
       "\t Vanessa atalanta                     & 1499557497                           & 51.11354                             & 3.32144                              &                                      & 1f968e89-ca96-4065-91a5-4858e736b5aa & 4d3ceea8-5699-439d-a899-decac9cbbdac & BE                                   & DWC\\_ARCHIVE                        & 2017-09-30T14:26:44.903+0000         & ...                                  & NA                                   & NA                                   & NA                                   & NA                                   & NA                                   & NA                                   & NA                                   & NA                                   & NA                                   & NA                                  \\\\\n",
       "\t Vanessa atalanta                     & 1499572778                           & 50.78832                             & 4.59605                              &                                      & 1f968e89-ca96-4065-91a5-4858e736b5aa & 4d3ceea8-5699-439d-a899-decac9cbbdac & BE                                   & DWC\\_ARCHIVE                        & 2017-09-30T14:26:54.232+0000         & ...                                  & NA                                   & NA                                   & NA                                   & NA                                   & NA                                   & NA                                   & NA                                   & NA                                   & NA                                   & NA                                  \\\\\n",
       "\t Vanessa atalanta                     & 1499560975                           & 51.00879                             & 4.88871                              &                                      & 1f968e89-ca96-4065-91a5-4858e736b5aa & 4d3ceea8-5699-439d-a899-decac9cbbdac & BE                                   & DWC\\_ARCHIVE                        & 2017-09-30T14:26:46.942+0000         & ...                                  & NA                                   & NA                                   & NA                                   & NA                                   & NA                                   & NA                                   & NA                                   & NA                                   & NA                                   & NA                                  \\\\\n",
       "\t Vanessa atalanta                     & 1499556971                           & 50.75272                             & 3.60248                              &                                      & 1f968e89-ca96-4065-91a5-4858e736b5aa & 4d3ceea8-5699-439d-a899-decac9cbbdac & BE                                   & DWC\\_ARCHIVE                        & 2017-09-30T14:26:44.529+0000         & ...                                  & NA                                   & NA                                   & NA                                   & NA                                   & NA                                   & NA                                   & NA                                   & NA                                   & NA                                   & NA                                  \\\\\n",
       "\t Vanessa atalanta                     & 1499566757                           & 50.78410                             & 4.87964                              &                                      & 1f968e89-ca96-4065-91a5-4858e736b5aa & 4d3ceea8-5699-439d-a899-decac9cbbdac & BE                                   & DWC\\_ARCHIVE                        & 2017-09-30T14:26:50.034+0000         & ...                                  & NA                                   & NA                                   & NA                                   & NA                                   & NA                                   & NA                                   & NA                                   & NA                                   & NA                                   & NA                                  \\\\\n",
       "\t Vanessa atalanta                     & 1499557479                           & 51.11354                             & 3.32144                              &                                      & 1f968e89-ca96-4065-91a5-4858e736b5aa & 4d3ceea8-5699-439d-a899-decac9cbbdac & BE                                   & DWC\\_ARCHIVE                        & 2017-09-30T14:26:44.928+0000         & ...                                  & NA                                   & NA                                   & NA                                   & NA                                   & NA                                   & NA                                   & NA                                   & NA                                   & NA                                   & NA                                  \\\\\n",
       "\t Vanessa atalanta                     & 1499560058                           & 50.83327                             & 4.59758                              &                                      & 1f968e89-ca96-4065-91a5-4858e736b5aa & 4d3ceea8-5699-439d-a899-decac9cbbdac & BE                                   & DWC\\_ARCHIVE                        & 2017-09-30T14:26:46.347+0000         & ...                                  & NA                                   & NA                                   & NA                                   & NA                                   & NA                                   & NA                                   & NA                                   & NA                                   & NA                                   & NA                                  \\\\\n",
       "\t Vanessa atalanta                     & 1499571956                           & 51.11398                             & 3.03572                              &                                      & 1f968e89-ca96-4065-91a5-4858e736b5aa & 4d3ceea8-5699-439d-a899-decac9cbbdac & BE                                   & DWC\\_ARCHIVE                        & 2017-09-30T14:26:53.654+0000         & ...                                  & NA                                   & NA                                   & NA                                   & NA                                   & NA                                   & NA                                   & NA                                   & NA                                   & NA                                   & NA                                  \\\\\n",
       "\t Vanessa atalanta                     & 1499554509                           & 50.84226                             & 3.67465                              &                                      & 1f968e89-ca96-4065-91a5-4858e736b5aa & 4d3ceea8-5699-439d-a899-decac9cbbdac & BE                                   & DWC\\_ARCHIVE                        & 2017-09-30T14:26:42.711+0000         & ...                                  & NA                                   & NA                                   & NA                                   & NA                                   & NA                                   & NA                                   & NA                                   & NA                                   & NA                                   & NA                                  \\\\\n",
       "\t Vanessa atalanta                     & 1499571534                           & 51.06662                             & 3.74927                              &                                      & 1f968e89-ca96-4065-91a5-4858e736b5aa & 4d3ceea8-5699-439d-a899-decac9cbbdac & BE                                   & DWC\\_ARCHIVE                        & 2017-09-30T14:26:53.432+0000         & ...                                  & NA                                   & NA                                   & NA                                   & NA                                   & NA                                   & NA                                   & NA                                   & NA                                   & NA                                   & NA                                  \\\\\n",
       "\t Vanessa atalanta                     & 1499566627                           & 51.06705                             & 3.67791                              &                                      & 1f968e89-ca96-4065-91a5-4858e736b5aa & 4d3ceea8-5699-439d-a899-decac9cbbdac & BE                                   & DWC\\_ARCHIVE                        & 2017-09-30T14:26:50.043+0000         & ...                                  & NA                                   & NA                                   & NA                                   & NA                                   & NA                                   & NA                                   & NA                                   & NA                                   & NA                                   & NA                                  \\\\\n",
       "\t Vanessa atalanta                     & 1499577549                           & 50.86770                             & 5.23832                              &                                      & 1f968e89-ca96-4065-91a5-4858e736b5aa & 4d3ceea8-5699-439d-a899-decac9cbbdac & BE                                   & DWC\\_ARCHIVE                        & 2017-09-30T14:26:57.400+0000         & ...                                  & NA                                   & NA                                   & NA                                   & NA                                   & NA                                   & NA                                   & NA                                   & NA                                   & NA                                   & NA                                  \\\\\n",
       "\t Vanessa atalanta                     & 1499577789                           & 50.94858                             & 5.66935                              &                                      & 1f968e89-ca96-4065-91a5-4858e736b5aa & 4d3ceea8-5699-439d-a899-decac9cbbdac & BE                                   & DWC\\_ARCHIVE                        & 2017-09-30T14:26:57.533+0000         & ...                                  & NA                                   & NA                                   & NA                                   & NA                                   & NA                                   & NA                                   & NA                                   & NA                                   & NA                                   & NA                                  \\\\\n",
       "\t Vanessa atalanta                     & 1499577186                           & 51.15868                             & 2.74975                              &                                      & 1f968e89-ca96-4065-91a5-4858e736b5aa & 4d3ceea8-5699-439d-a899-decac9cbbdac & BE                                   & DWC\\_ARCHIVE                        & 2017-09-30T14:26:56.985+0000         & ...                                  & NA                                   & NA                                   & NA                                   & NA                                   & NA                                   & NA                                   & NA                                   & NA                                   & NA                                   & NA                                  \\\\\n",
       "\t Vanessa atalanta                     & 1499603899                           & 51.22572                             & 5.32726                              &                                      & 1f968e89-ca96-4065-91a5-4858e736b5aa & 4d3ceea8-5699-439d-a899-decac9cbbdac & BE                                   & DWC\\_ARCHIVE                        & 2017-09-30T14:27:14.312+0000         & ...                                  & NA                                   & NA                                   & NA                                   & NA                                   & NA                                   & NA                                   & NA                                   & NA                                   & NA                                   & NA                                  \\\\\n",
       "\t Vanessa atalanta                     & 1499579806                           & 50.81850                             & 5.44894                              &                                      & 1f968e89-ca96-4065-91a5-4858e736b5aa & 4d3ceea8-5699-439d-a899-decac9cbbdac & BE                                   & DWC\\_ARCHIVE                        & 2017-09-30T14:26:58.775+0000         & ...                                  & NA                                   & NA                                   & NA                                   & NA                                   & NA                                   & NA                                   & NA                                   & NA                                   & NA                                   & NA                                  \\\\\n",
       "\t Vanessa atalanta                     & 1499577960                           & 50.75143                             & 3.81510                              &                                      & 1f968e89-ca96-4065-91a5-4858e736b5aa & 4d3ceea8-5699-439d-a899-decac9cbbdac & BE                                   & DWC\\_ARCHIVE                        & 2017-09-30T14:26:57.553+0000         & ...                                  & NA                                   & NA                                   & NA                                   & NA                                   & NA                                   & NA                                   & NA                                   & NA                                   & NA                                   & NA                                  \\\\\n",
       "\t Vanessa atalanta                     & 1499570217                           & 51.28785                             & 4.18308                              &                                      & 1f968e89-ca96-4065-91a5-4858e736b5aa & 4d3ceea8-5699-439d-a899-decac9cbbdac & BE                                   & DWC\\_ARCHIVE                        & 2017-09-30T14:26:52.501+0000         & ...                                  & NA                                   & NA                                   & NA                                   & NA                                   & NA                                   & NA                                   & NA                                   & NA                                   & NA                                   & NA                                  \\\\\n",
       "\t Vanessa atalanta                     & 1499560253                           & 50.79911                             & 2.82263                              &                                      & 1f968e89-ca96-4065-91a5-4858e736b5aa & 4d3ceea8-5699-439d-a899-decac9cbbdac & BE                                   & DWC\\_ARCHIVE                        & 2017-09-30T14:26:46.462+0000         & ...                                  & NA                                   & NA                                   & NA                                   & NA                                   & NA                                   & NA                                   & NA                                   & NA                                   & NA                                   & NA                                  \\\\\n",
       "\t Vanessa atalanta                     & 1499554376                           & 51.02009                             & 3.96238                              &                                      & 1f968e89-ca96-4065-91a5-4858e736b5aa & 4d3ceea8-5699-439d-a899-decac9cbbdac & BE                                   & DWC\\_ARCHIVE                        & 2017-09-30T14:26:42.681+0000         & ...                                  & NA                                   & NA                                   & NA                                   & NA                                   & NA                                   & NA                                   & NA                                   & NA                                   & NA                                   & NA                                  \\\\\n",
       "\t Vanessa atalanta                     & 1499577811                           & 50.83681                             & 4.31366                              &                                      & 1f968e89-ca96-4065-91a5-4858e736b5aa & 4d3ceea8-5699-439d-a899-decac9cbbdac & BE                                   & DWC\\_ARCHIVE                        & 2017-09-30T14:26:57.469+0000         & ...                                  & NA                                   & NA                                   & NA                                   & NA                                   & NA                                   & NA                                   & NA                                   & NA                                   & NA                                   & NA                                  \\\\\n",
       "\t Vanessa atalanta                     & 1499554383                           & 51.32449                             & 4.82989                              &                                      & 1f968e89-ca96-4065-91a5-4858e736b5aa & 4d3ceea8-5699-439d-a899-decac9cbbdac & BE                                   & DWC\\_ARCHIVE                        & 2017-09-30T14:26:42.701+0000         & ...                                  & NA                                   & NA                                   & NA                                   & NA                                   & NA                                   & NA                                   & NA                                   & NA                                   & NA                                   & NA                                  \\\\\n",
       "\t Vanessa atalanta                     & 1499560167                           & 50.84377                             & 3.31958                              &                                      & 1f968e89-ca96-4065-91a5-4858e736b5aa & 4d3ceea8-5699-439d-a899-decac9cbbdac & BE                                   & DWC\\_ARCHIVE                        & 2017-09-30T14:26:46.458+0000         & ...                                  & NA                                   & NA                                   & NA                                   & NA                                   & NA                                   & NA                                   & NA                                   & NA                                   & NA                                   & NA                                  \\\\\n",
       "\t Vanessa atalanta                     & 1499563564                           & 50.73291                             & 5.23188                              &                                      & 1f968e89-ca96-4065-91a5-4858e736b5aa & 4d3ceea8-5699-439d-a899-decac9cbbdac & BE                                   & DWC\\_ARCHIVE                        & 2017-09-30T14:26:48.316+0000         & ...                                  & NA                                   & NA                                   & NA                                   & NA                                   & NA                                   & NA                                   & NA                                   & NA                                   & NA                                   & NA                                  \\\\\n",
       "\t Vanessa atalanta                     & 1499570184                           & 51.19992                             & 3.96612                              &                                      & 1f968e89-ca96-4065-91a5-4858e736b5aa & 4d3ceea8-5699-439d-a899-decac9cbbdac & BE                                   & DWC\\_ARCHIVE                        & 2017-09-30T14:26:52.573+0000         & ...                                  & NA                                   & NA                                   & NA                                   & NA                                   & NA                                   & NA                                   & NA                                   & NA                                   & NA                                   & NA                                  \\\\\n",
       "\\end{tabular}\n",
       "\n",
       "\\end{description}\n"
      ],
      "text/markdown": [
       "$meta\n",
       ":   $offset\n",
       ":   15600\n",
       "$limit\n",
       ":   220\n",
       "$endOfRecords\n",
       ":   TRUE\n",
       "$count\n",
       ":   15820\n",
       "\n",
       "\n",
       "\n",
       "$data\n",
       ":   \n",
       "name | key | decimalLatitude | decimalLongitude | issues | datasetKey | publishingOrgKey | publishingCountry | protocol | lastCrawled | ... | identifiedBy | sex | catalogNumber | collectionCode | dateIdentified | verbatimLocality | http://unknown.org/occurrenceDetails | rights | eventTime | identificationID | \n",
       "|---|---|---|---|---|---|---|---|---|---|---|---|---|---|---|---|---|---|---|---|---|---|---|---|---|---|---|---|---|---|---|---|---|---|---|---|---|---|---|---|---|---|---|---|---|---|---|---|---|---|---|---|---|---|---|---|---|---|---|---|---|\n",
       "| Vanessa atalanta                     | 1499553958                           | 51.19077                             | 4.75303                              |                                      | 1f968e89-ca96-4065-91a5-4858e736b5aa | 4d3ceea8-5699-439d-a899-decac9cbbdac | BE                                   | DWC_ARCHIVE                          | 2017-09-30T14:26:42.352+0000         | ...                                  | NA                                   | NA                                   | NA                                   | NA                                   | NA                                   | NA                                   | NA                                   | NA                                   | NA                                   | NA                                   | \n",
       "| Vanessa atalanta                     | 1499572548                           | 50.97084                             | 4.38865                              |                                      | 1f968e89-ca96-4065-91a5-4858e736b5aa | 4d3ceea8-5699-439d-a899-decac9cbbdac | BE                                   | DWC_ARCHIVE                          | 2017-09-30T14:26:54.096+0000         | ...                                  | NA                                   | NA                                   | NA                                   | NA                                   | NA                                   | NA                                   | NA                                   | NA                                   | NA                                   | NA                                   | \n",
       "| Vanessa atalanta                     | 1499565501                           | 51.24053                             | 4.39675                              |                                      | 1f968e89-ca96-4065-91a5-4858e736b5aa | 4d3ceea8-5699-439d-a899-decac9cbbdac | BE                                   | DWC_ARCHIVE                          | 2017-09-30T14:26:49.427+0000         | ...                                  | NA                                   | NA                                   | NA                                   | NA                                   | NA                                   | NA                                   | NA                                   | NA                                   | NA                                   | NA                                   | \n",
       "| Vanessa atalanta                     | 1499558447                           | 51.18613                             | 5.03905                              |                                      | 1f968e89-ca96-4065-91a5-4858e736b5aa | 4d3ceea8-5699-439d-a899-decac9cbbdac | BE                                   | DWC_ARCHIVE                          | 2017-09-30T14:26:45.526+0000         | ...                                  | NA                                   | NA                                   | NA                                   | NA                                   | NA                                   | NA                                   | NA                                   | NA                                   | NA                                   | NA                                   | \n",
       "| Vanessa atalanta                     | 1499580620                           | 51.05133                             | 5.03313                              |                                      | 1f968e89-ca96-4065-91a5-4858e736b5aa | 4d3ceea8-5699-439d-a899-decac9cbbdac | BE                                   | DWC_ARCHIVE                          | 2017-09-30T14:26:59.173+0000         | ...                                  | NA                                   | NA                                   | NA                                   | NA                                   | NA                                   | NA                                   | NA                                   | NA                                   | NA                                   | NA                                   | \n",
       "| Vanessa atalanta                     | 1499572045                           | 51.02209                             | 3.67726                              |                                      | 1f968e89-ca96-4065-91a5-4858e736b5aa | 4d3ceea8-5699-439d-a899-decac9cbbdac | BE                                   | DWC_ARCHIVE                          | 2017-09-30T14:26:53.611+0000         | ...                                  | NA                                   | NA                                   | NA                                   | NA                                   | NA                                   | NA                                   | NA                                   | NA                                   | NA                                   | NA                                   | \n",
       "| Vanessa atalanta                     | 1499577196                           | 51.14976                             | 4.46550                              |                                      | 1f968e89-ca96-4065-91a5-4858e736b5aa | 4d3ceea8-5699-439d-a899-decac9cbbdac | BE                                   | DWC_ARCHIVE                          | 2017-09-30T14:26:56.957+0000         | ...                                  | NA                                   | NA                                   | NA                                   | NA                                   | NA                                   | NA                                   | NA                                   | NA                                   | NA                                   | NA                                   | \n",
       "| Vanessa atalanta                     | 1499560383                           | 51.15802                             | 3.46475                              |                                      | 1f968e89-ca96-4065-91a5-4858e736b5aa | 4d3ceea8-5699-439d-a899-decac9cbbdac | BE                                   | DWC_ARCHIVE                          | 2017-09-30T14:26:46.573+0000         | ...                                  | NA                                   | NA                                   | NA                                   | NA                                   | NA                                   | NA                                   | NA                                   | NA                                   | NA                                   | NA                                   | \n",
       "| Vanessa atalanta                     | 1499556274                           | 51.41943                             | 4.47411                              |                                      | 1f968e89-ca96-4065-91a5-4858e736b5aa | 4d3ceea8-5699-439d-a899-decac9cbbdac | BE                                   | DWC_ARCHIVE                          | 2017-09-30T14:26:43.809+0000         | ...                                  | NA                                   | NA                                   | NA                                   | NA                                   | NA                                   | NA                                   | NA                                   | NA                                   | NA                                   | NA                                   | \n",
       "| Vanessa atalanta                     | 1499553992                           | 51.05133                             | 5.03313                              |                                      | 1f968e89-ca96-4065-91a5-4858e736b5aa | 4d3ceea8-5699-439d-a899-decac9cbbdac | BE                                   | DWC_ARCHIVE                          | 2017-09-30T14:26:42.416+0000         | ...                                  | NA                                   | NA                                   | NA                                   | NA                                   | NA                                   | NA                                   | NA                                   | NA                                   | NA                                   | NA                                   | \n",
       "| Vanessa atalanta                     | 1499559391                           | 51.37260                             | 4.61628                              |                                      | 1f968e89-ca96-4065-91a5-4858e736b5aa | 4d3ceea8-5699-439d-a899-decac9cbbdac | BE                                   | DWC_ARCHIVE                          | 2017-09-30T14:26:46.056+0000         | ...                                  | NA                                   | NA                                   | NA                                   | NA                                   | NA                                   | NA                                   | NA                                   | NA                                   | NA                                   | NA                                   | \n",
       "| Vanessa atalanta                     | 1499562696                           | 50.97714                             | 3.67660                              |                                      | 1f968e89-ca96-4065-91a5-4858e736b5aa | 4d3ceea8-5699-439d-a899-decac9cbbdac | BE                                   | DWC_ARCHIVE                          | 2017-09-30T14:26:47.910+0000         | ...                                  | NA                                   | NA                                   | NA                                   | NA                                   | NA                                   | NA                                   | NA                                   | NA                                   | NA                                   | NA                                   | \n",
       "| Vanessa atalanta                     | 1499564494                           | 50.96498                             | 4.81572                              |                                      | 1f968e89-ca96-4065-91a5-4858e736b5aa | 4d3ceea8-5699-439d-a899-decac9cbbdac | BE                                   | DWC_ARCHIVE                          | 2017-09-30T14:26:48.900+0000         | ...                                  | NA                                   | NA                                   | NA                                   | NA                                   | NA                                   | NA                                   | NA                                   | NA                                   | NA                                   | NA                                   | \n",
       "| Vanessa atalanta                     | 1499574480                           | 51.14360                             | 4.89421                              |                                      | 1f968e89-ca96-4065-91a5-4858e736b5aa | 4d3ceea8-5699-439d-a899-decac9cbbdac | BE                                   | DWC_ARCHIVE                          | 2017-09-30T14:26:55.213+0000         | ...                                  | NA                                   | NA                                   | NA                                   | NA                                   | NA                                   | NA                                   | NA                                   | NA                                   | NA                                   | NA                                   | \n",
       "| Vanessa atalanta                     | 1499556263                           | 51.28548                             | 4.39812                              |                                      | 1f968e89-ca96-4065-91a5-4858e736b5aa | 4d3ceea8-5699-439d-a899-decac9cbbdac | BE                                   | DWC_ARCHIVE                          | 2017-09-30T14:26:43.793+0000         | ...                                  | NA                                   | NA                                   | NA                                   | NA                                   | NA                                   | NA                                   | NA                                   | NA                                   | NA                                   | NA                                   | \n",
       "| Vanessa atalanta                     | 1499560940                           | 51.32765                             | 4.61470                              |                                      | 1f968e89-ca96-4065-91a5-4858e736b5aa | 4d3ceea8-5699-439d-a899-decac9cbbdac | BE                                   | DWC_ARCHIVE                          | 2017-09-30T14:26:46.909+0000         | ...                                  | NA                                   | NA                                   | NA                                   | NA                                   | NA                                   | NA                                   | NA                                   | NA                                   | NA                                   | NA                                   | \n",
       "| Vanessa atalanta                     | 1499568912                           | 50.87034                             | 5.09631                              |                                      | 1f968e89-ca96-4065-91a5-4858e736b5aa | 4d3ceea8-5699-439d-a899-decac9cbbdac | BE                                   | DWC_ARCHIVE                          | 2017-09-30T14:26:51.752+0000         | ...                                  | NA                                   | NA                                   | NA                                   | NA                                   | NA                                   | NA                                   | NA                                   | NA                                   | NA                                   | NA                                   | \n",
       "| Vanessa atalanta                     | 1499575654                           | 51.24136                             | 4.32515                              |                                      | 1f968e89-ca96-4065-91a5-4858e736b5aa | 4d3ceea8-5699-439d-a899-decac9cbbdac | BE                                   | DWC_ARCHIVE                          | 2017-09-30T14:26:55.952+0000         | ...                                  | NA                                   | NA                                   | NA                                   | NA                                   | NA                                   | NA                                   | NA                                   | NA                                   | NA                                   | NA                                   | \n",
       "| Vanessa atalanta                     | 1499558223                           | 50.93400                             | 3.17789                              |                                      | 1f968e89-ca96-4065-91a5-4858e736b5aa | 4d3ceea8-5699-439d-a899-decac9cbbdac | BE                                   | DWC_ARCHIVE                          | 2017-09-30T14:26:45.369+0000         | ...                                  | NA                                   | NA                                   | NA                                   | NA                                   | NA                                   | NA                                   | NA                                   | NA                                   | NA                                   | NA                                   | \n",
       "| Vanessa atalanta                     | 1499567537                           | 50.78293                             | 4.95053                              |                                      | 1f968e89-ca96-4065-91a5-4858e736b5aa | 4d3ceea8-5699-439d-a899-decac9cbbdac | BE                                   | DWC_ARCHIVE                          | 2017-09-30T14:26:50.675+0000         | ...                                  | NA                                   | NA                                   | NA                                   | NA                                   | NA                                   | NA                                   | NA                                   | NA                                   | NA                                   | NA                                   | \n",
       "| Vanessa atalanta                     | 1499569286                           | 51.01814                             | 4.17620                              |                                      | 1f968e89-ca96-4065-91a5-4858e736b5aa | 4d3ceea8-5699-439d-a899-decac9cbbdac | BE                                   | DWC_ARCHIVE                          | 2017-09-30T14:26:52.010+0000         | ...                                  | NA                                   | NA                                   | NA                                   | NA                                   | NA                                   | NA                                   | NA                                   | NA                                   | NA                                   | NA                                   | \n",
       "| Vanessa atalanta                     | 1499556756                           | 51.14788                             | 4.60842                              |                                      | 1f968e89-ca96-4065-91a5-4858e736b5aa | 4d3ceea8-5699-439d-a899-decac9cbbdac | BE                                   | DWC_ARCHIVE                          | 2017-09-30T14:26:44.303+0000         | ...                                  | NA                                   | NA                                   | NA                                   | NA                                   | NA                                   | NA                                   | NA                                   | NA                                   | NA                                   | NA                                   | \n",
       "| Vanessa atalanta                     | 1499573964                           | 50.74523                             | 4.45284                              |                                      | 1f968e89-ca96-4065-91a5-4858e736b5aa | 4d3ceea8-5699-439d-a899-decac9cbbdac | BE                                   | DWC_ARCHIVE                          | 2017-09-30T14:26:54.930+0000         | ...                                  | NA                                   | NA                                   | NA                                   | NA                                   | NA                                   | NA                                   | NA                                   | NA                                   | NA                                   | NA                                   | \n",
       "| Vanessa atalanta                     | 1499579742                           | 51.22279                             | 5.47034                              |                                      | 1f968e89-ca96-4065-91a5-4858e736b5aa | 4d3ceea8-5699-439d-a899-decac9cbbdac | BE                                   | DWC_ARCHIVE                          | 2017-09-30T14:26:58.704+0000         | ...                                  | NA                                   | NA                                   | NA                                   | NA                                   | NA                                   | NA                                   | NA                                   | NA                                   | NA                                   | NA                                   | \n",
       "| Vanessa atalanta                     | 1499553862                           | 51.02401                             | 3.10694                              |                                      | 1f968e89-ca96-4065-91a5-4858e736b5aa | 4d3ceea8-5699-439d-a899-decac9cbbdac | BE                                   | DWC_ARCHIVE                          | 2017-09-30T14:26:42.377+0000         | ...                                  | NA                                   | NA                                   | NA                                   | NA                                   | NA                                   | NA                                   | NA                                   | NA                                   | NA                                   | NA                                   | \n",
       "| Vanessa atalanta                     | 1499559833                           | 50.73554                             | 5.09028                              |                                      | 1f968e89-ca96-4065-91a5-4858e736b5aa | 4d3ceea8-5699-439d-a899-decac9cbbdac | BE                                   | DWC_ARCHIVE                          | 2017-09-30T14:26:46.172+0000         | ...                                  | NA                                   | NA                                   | NA                                   | NA                                   | NA                                   | NA                                   | NA                                   | NA                                   | NA                                   | NA                                   | \n",
       "| Vanessa atalanta                     | 1499571174                           | 51.22279                             | 5.47034                              |                                      | 1f968e89-ca96-4065-91a5-4858e736b5aa | 4d3ceea8-5699-439d-a899-decac9cbbdac | BE                                   | DWC_ARCHIVE                          | 2017-09-30T14:26:53.341+0000         | ...                                  | NA                                   | NA                                   | NA                                   | NA                                   | NA                                   | NA                                   | NA                                   | NA                                   | NA                                   | NA                                   | \n",
       "| Vanessa atalanta                     | 1499560548                           | 50.97570                             | 3.89024                              |                                      | 1f968e89-ca96-4065-91a5-4858e736b5aa | 4d3ceea8-5699-439d-a899-decac9cbbdac | BE                                   | DWC_ARCHIVE                          | 2017-09-30T14:26:46.688+0000         | ...                                  | NA                                   | NA                                   | NA                                   | NA                                   | NA                                   | NA                                   | NA                                   | NA                                   | NA                                   | NA                                   | \n",
       "| Vanessa atalanta                     | 1499567295                           | 51.06901                             | 3.03568                              |                                      | 1f968e89-ca96-4065-91a5-4858e736b5aa | 4d3ceea8-5699-439d-a899-decac9cbbdac | BE                                   | DWC_ARCHIVE                          | 2017-09-30T14:26:50.657+0000         | ...                                  | NA                                   | NA                                   | NA                                   | NA                                   | NA                                   | NA                                   | NA                                   | NA                                   | NA                                   | NA                                   | \n",
       "| Vanessa atalanta                     | 1499579775                           | 51.41943                             | 4.47411                              |                                      | 1f968e89-ca96-4065-91a5-4858e736b5aa | 4d3ceea8-5699-439d-a899-decac9cbbdac | BE                                   | DWC_ARCHIVE                          | 2017-09-30T14:26:58.733+0000         | ...                                  | NA                                   | NA                                   | NA                                   | NA                                   | NA                                   | NA                                   | NA                                   | NA                                   | NA                                   | NA                                   | \n",
       "| ... | ... | ... | ... | ... | ... | ... | ... | ... | ... |     | ... | ... | ... | ... | ... | ... | ... | ... | ... | ... | \n",
       "| Vanessa atalanta                     | 1499560820                           | 50.82666                             | 5.02335                              |                                      | 1f968e89-ca96-4065-91a5-4858e736b5aa | 4d3ceea8-5699-439d-a899-decac9cbbdac | BE                                   | DWC_ARCHIVE                          | 2017-09-30T14:26:46.717+0000         | ...                                  | NA                                   | NA                                   | NA                                   | NA                                   | NA                                   | NA                                   | NA                                   | NA                                   | NA                                   | NA                                   | \n",
       "| Vanessa atalanta                     | 1499565253                           | 51.15771                             | 3.53624                              |                                      | 1f968e89-ca96-4065-91a5-4858e736b5aa | 4d3ceea8-5699-439d-a899-decac9cbbdac | BE                                   | DWC_ARCHIVE                          | 2017-09-30T14:26:49.255+0000         | ...                                  | NA                                   | NA                                   | NA                                   | NA                                   | NA                                   | NA                                   | NA                                   | NA                                   | NA                                   | NA                                   | \n",
       "| Vanessa atalanta                     | 1499569022                           | 51.09370                             | 5.17780                              |                                      | 1f968e89-ca96-4065-91a5-4858e736b5aa | 4d3ceea8-5699-439d-a899-decac9cbbdac | BE                                   | DWC_ARCHIVE                          | 2017-09-30T14:26:51.859+0000         | ...                                  | NA                                   | NA                                   | NA                                   | NA                                   | NA                                   | NA                                   | NA                                   | NA                                   | NA                                   | NA                                   | \n",
       "| Vanessa atalanta                     | 1499566366                           | 51.04459                             | 5.38951                              |                                      | 1f968e89-ca96-4065-91a5-4858e736b5aa | 4d3ceea8-5699-439d-a899-decac9cbbdac | BE                                   | DWC_ARCHIVE                          | 2017-09-30T14:26:49.770+0000         | ...                                  | NA                                   | NA                                   | NA                                   | NA                                   | NA                                   | NA                                   | NA                                   | NA                                   | NA                                   | NA                                   | \n",
       "| Vanessa atalanta                     | 1499577591                           | 50.88722                             | 3.67530                              |                                      | 1f968e89-ca96-4065-91a5-4858e736b5aa | 4d3ceea8-5699-439d-a899-decac9cbbdac | BE                                   | DWC_ARCHIVE                          | 2017-09-30T14:26:57.467+0000         | ...                                  | NA                                   | NA                                   | NA                                   | NA                                   | NA                                   | NA                                   | NA                                   | NA                                   | NA                                   | NA                                   | \n",
       "| Vanessa atalanta                     | 1499557497                           | 51.11354                             | 3.32144                              |                                      | 1f968e89-ca96-4065-91a5-4858e736b5aa | 4d3ceea8-5699-439d-a899-decac9cbbdac | BE                                   | DWC_ARCHIVE                          | 2017-09-30T14:26:44.903+0000         | ...                                  | NA                                   | NA                                   | NA                                   | NA                                   | NA                                   | NA                                   | NA                                   | NA                                   | NA                                   | NA                                   | \n",
       "| Vanessa atalanta                     | 1499572778                           | 50.78832                             | 4.59605                              |                                      | 1f968e89-ca96-4065-91a5-4858e736b5aa | 4d3ceea8-5699-439d-a899-decac9cbbdac | BE                                   | DWC_ARCHIVE                          | 2017-09-30T14:26:54.232+0000         | ...                                  | NA                                   | NA                                   | NA                                   | NA                                   | NA                                   | NA                                   | NA                                   | NA                                   | NA                                   | NA                                   | \n",
       "| Vanessa atalanta                     | 1499560975                           | 51.00879                             | 4.88871                              |                                      | 1f968e89-ca96-4065-91a5-4858e736b5aa | 4d3ceea8-5699-439d-a899-decac9cbbdac | BE                                   | DWC_ARCHIVE                          | 2017-09-30T14:26:46.942+0000         | ...                                  | NA                                   | NA                                   | NA                                   | NA                                   | NA                                   | NA                                   | NA                                   | NA                                   | NA                                   | NA                                   | \n",
       "| Vanessa atalanta                     | 1499556971                           | 50.75272                             | 3.60248                              |                                      | 1f968e89-ca96-4065-91a5-4858e736b5aa | 4d3ceea8-5699-439d-a899-decac9cbbdac | BE                                   | DWC_ARCHIVE                          | 2017-09-30T14:26:44.529+0000         | ...                                  | NA                                   | NA                                   | NA                                   | NA                                   | NA                                   | NA                                   | NA                                   | NA                                   | NA                                   | NA                                   | \n",
       "| Vanessa atalanta                     | 1499566757                           | 50.78410                             | 4.87964                              |                                      | 1f968e89-ca96-4065-91a5-4858e736b5aa | 4d3ceea8-5699-439d-a899-decac9cbbdac | BE                                   | DWC_ARCHIVE                          | 2017-09-30T14:26:50.034+0000         | ...                                  | NA                                   | NA                                   | NA                                   | NA                                   | NA                                   | NA                                   | NA                                   | NA                                   | NA                                   | NA                                   | \n",
       "| Vanessa atalanta                     | 1499557479                           | 51.11354                             | 3.32144                              |                                      | 1f968e89-ca96-4065-91a5-4858e736b5aa | 4d3ceea8-5699-439d-a899-decac9cbbdac | BE                                   | DWC_ARCHIVE                          | 2017-09-30T14:26:44.928+0000         | ...                                  | NA                                   | NA                                   | NA                                   | NA                                   | NA                                   | NA                                   | NA                                   | NA                                   | NA                                   | NA                                   | \n",
       "| Vanessa atalanta                     | 1499560058                           | 50.83327                             | 4.59758                              |                                      | 1f968e89-ca96-4065-91a5-4858e736b5aa | 4d3ceea8-5699-439d-a899-decac9cbbdac | BE                                   | DWC_ARCHIVE                          | 2017-09-30T14:26:46.347+0000         | ...                                  | NA                                   | NA                                   | NA                                   | NA                                   | NA                                   | NA                                   | NA                                   | NA                                   | NA                                   | NA                                   | \n",
       "| Vanessa atalanta                     | 1499571956                           | 51.11398                             | 3.03572                              |                                      | 1f968e89-ca96-4065-91a5-4858e736b5aa | 4d3ceea8-5699-439d-a899-decac9cbbdac | BE                                   | DWC_ARCHIVE                          | 2017-09-30T14:26:53.654+0000         | ...                                  | NA                                   | NA                                   | NA                                   | NA                                   | NA                                   | NA                                   | NA                                   | NA                                   | NA                                   | NA                                   | \n",
       "| Vanessa atalanta                     | 1499554509                           | 50.84226                             | 3.67465                              |                                      | 1f968e89-ca96-4065-91a5-4858e736b5aa | 4d3ceea8-5699-439d-a899-decac9cbbdac | BE                                   | DWC_ARCHIVE                          | 2017-09-30T14:26:42.711+0000         | ...                                  | NA                                   | NA                                   | NA                                   | NA                                   | NA                                   | NA                                   | NA                                   | NA                                   | NA                                   | NA                                   | \n",
       "| Vanessa atalanta                     | 1499571534                           | 51.06662                             | 3.74927                              |                                      | 1f968e89-ca96-4065-91a5-4858e736b5aa | 4d3ceea8-5699-439d-a899-decac9cbbdac | BE                                   | DWC_ARCHIVE                          | 2017-09-30T14:26:53.432+0000         | ...                                  | NA                                   | NA                                   | NA                                   | NA                                   | NA                                   | NA                                   | NA                                   | NA                                   | NA                                   | NA                                   | \n",
       "| Vanessa atalanta                     | 1499566627                           | 51.06705                             | 3.67791                              |                                      | 1f968e89-ca96-4065-91a5-4858e736b5aa | 4d3ceea8-5699-439d-a899-decac9cbbdac | BE                                   | DWC_ARCHIVE                          | 2017-09-30T14:26:50.043+0000         | ...                                  | NA                                   | NA                                   | NA                                   | NA                                   | NA                                   | NA                                   | NA                                   | NA                                   | NA                                   | NA                                   | \n",
       "| Vanessa atalanta                     | 1499577549                           | 50.86770                             | 5.23832                              |                                      | 1f968e89-ca96-4065-91a5-4858e736b5aa | 4d3ceea8-5699-439d-a899-decac9cbbdac | BE                                   | DWC_ARCHIVE                          | 2017-09-30T14:26:57.400+0000         | ...                                  | NA                                   | NA                                   | NA                                   | NA                                   | NA                                   | NA                                   | NA                                   | NA                                   | NA                                   | NA                                   | \n",
       "| Vanessa atalanta                     | 1499577789                           | 50.94858                             | 5.66935                              |                                      | 1f968e89-ca96-4065-91a5-4858e736b5aa | 4d3ceea8-5699-439d-a899-decac9cbbdac | BE                                   | DWC_ARCHIVE                          | 2017-09-30T14:26:57.533+0000         | ...                                  | NA                                   | NA                                   | NA                                   | NA                                   | NA                                   | NA                                   | NA                                   | NA                                   | NA                                   | NA                                   | \n",
       "| Vanessa atalanta                     | 1499577186                           | 51.15868                             | 2.74975                              |                                      | 1f968e89-ca96-4065-91a5-4858e736b5aa | 4d3ceea8-5699-439d-a899-decac9cbbdac | BE                                   | DWC_ARCHIVE                          | 2017-09-30T14:26:56.985+0000         | ...                                  | NA                                   | NA                                   | NA                                   | NA                                   | NA                                   | NA                                   | NA                                   | NA                                   | NA                                   | NA                                   | \n",
       "| Vanessa atalanta                     | 1499603899                           | 51.22572                             | 5.32726                              |                                      | 1f968e89-ca96-4065-91a5-4858e736b5aa | 4d3ceea8-5699-439d-a899-decac9cbbdac | BE                                   | DWC_ARCHIVE                          | 2017-09-30T14:27:14.312+0000         | ...                                  | NA                                   | NA                                   | NA                                   | NA                                   | NA                                   | NA                                   | NA                                   | NA                                   | NA                                   | NA                                   | \n",
       "| Vanessa atalanta                     | 1499579806                           | 50.81850                             | 5.44894                              |                                      | 1f968e89-ca96-4065-91a5-4858e736b5aa | 4d3ceea8-5699-439d-a899-decac9cbbdac | BE                                   | DWC_ARCHIVE                          | 2017-09-30T14:26:58.775+0000         | ...                                  | NA                                   | NA                                   | NA                                   | NA                                   | NA                                   | NA                                   | NA                                   | NA                                   | NA                                   | NA                                   | \n",
       "| Vanessa atalanta                     | 1499577960                           | 50.75143                             | 3.81510                              |                                      | 1f968e89-ca96-4065-91a5-4858e736b5aa | 4d3ceea8-5699-439d-a899-decac9cbbdac | BE                                   | DWC_ARCHIVE                          | 2017-09-30T14:26:57.553+0000         | ...                                  | NA                                   | NA                                   | NA                                   | NA                                   | NA                                   | NA                                   | NA                                   | NA                                   | NA                                   | NA                                   | \n",
       "| Vanessa atalanta                     | 1499570217                           | 51.28785                             | 4.18308                              |                                      | 1f968e89-ca96-4065-91a5-4858e736b5aa | 4d3ceea8-5699-439d-a899-decac9cbbdac | BE                                   | DWC_ARCHIVE                          | 2017-09-30T14:26:52.501+0000         | ...                                  | NA                                   | NA                                   | NA                                   | NA                                   | NA                                   | NA                                   | NA                                   | NA                                   | NA                                   | NA                                   | \n",
       "| Vanessa atalanta                     | 1499560253                           | 50.79911                             | 2.82263                              |                                      | 1f968e89-ca96-4065-91a5-4858e736b5aa | 4d3ceea8-5699-439d-a899-decac9cbbdac | BE                                   | DWC_ARCHIVE                          | 2017-09-30T14:26:46.462+0000         | ...                                  | NA                                   | NA                                   | NA                                   | NA                                   | NA                                   | NA                                   | NA                                   | NA                                   | NA                                   | NA                                   | \n",
       "| Vanessa atalanta                     | 1499554376                           | 51.02009                             | 3.96238                              |                                      | 1f968e89-ca96-4065-91a5-4858e736b5aa | 4d3ceea8-5699-439d-a899-decac9cbbdac | BE                                   | DWC_ARCHIVE                          | 2017-09-30T14:26:42.681+0000         | ...                                  | NA                                   | NA                                   | NA                                   | NA                                   | NA                                   | NA                                   | NA                                   | NA                                   | NA                                   | NA                                   | \n",
       "| Vanessa atalanta                     | 1499577811                           | 50.83681                             | 4.31366                              |                                      | 1f968e89-ca96-4065-91a5-4858e736b5aa | 4d3ceea8-5699-439d-a899-decac9cbbdac | BE                                   | DWC_ARCHIVE                          | 2017-09-30T14:26:57.469+0000         | ...                                  | NA                                   | NA                                   | NA                                   | NA                                   | NA                                   | NA                                   | NA                                   | NA                                   | NA                                   | NA                                   | \n",
       "| Vanessa atalanta                     | 1499554383                           | 51.32449                             | 4.82989                              |                                      | 1f968e89-ca96-4065-91a5-4858e736b5aa | 4d3ceea8-5699-439d-a899-decac9cbbdac | BE                                   | DWC_ARCHIVE                          | 2017-09-30T14:26:42.701+0000         | ...                                  | NA                                   | NA                                   | NA                                   | NA                                   | NA                                   | NA                                   | NA                                   | NA                                   | NA                                   | NA                                   | \n",
       "| Vanessa atalanta                     | 1499560167                           | 50.84377                             | 3.31958                              |                                      | 1f968e89-ca96-4065-91a5-4858e736b5aa | 4d3ceea8-5699-439d-a899-decac9cbbdac | BE                                   | DWC_ARCHIVE                          | 2017-09-30T14:26:46.458+0000         | ...                                  | NA                                   | NA                                   | NA                                   | NA                                   | NA                                   | NA                                   | NA                                   | NA                                   | NA                                   | NA                                   | \n",
       "| Vanessa atalanta                     | 1499563564                           | 50.73291                             | 5.23188                              |                                      | 1f968e89-ca96-4065-91a5-4858e736b5aa | 4d3ceea8-5699-439d-a899-decac9cbbdac | BE                                   | DWC_ARCHIVE                          | 2017-09-30T14:26:48.316+0000         | ...                                  | NA                                   | NA                                   | NA                                   | NA                                   | NA                                   | NA                                   | NA                                   | NA                                   | NA                                   | NA                                   | \n",
       "| Vanessa atalanta                     | 1499570184                           | 51.19992                             | 3.96612                              |                                      | 1f968e89-ca96-4065-91a5-4858e736b5aa | 4d3ceea8-5699-439d-a899-decac9cbbdac | BE                                   | DWC_ARCHIVE                          | 2017-09-30T14:26:52.573+0000         | ...                                  | NA                                   | NA                                   | NA                                   | NA                                   | NA                                   | NA                                   | NA                                   | NA                                   | NA                                   | NA                                   | \n",
       "\n",
       "\n",
       "\n",
       "\n",
       "\n"
      ],
      "text/plain": [
       "$meta\n",
       "$meta$offset\n",
       "[1] 15600\n",
       "\n",
       "$meta$limit\n",
       "[1] 220\n",
       "\n",
       "$meta$endOfRecords\n",
       "[1] TRUE\n",
       "\n",
       "$meta$count\n",
       "[1] 15820\n",
       "\n",
       "\n",
       "$data\n",
       "# A tibble: 15,820 x 88\n",
       "               name        key decimalLatitude decimalLongitude issues\n",
       "              <chr>      <int>           <dbl>            <dbl>  <chr>\n",
       " 1 Vanessa atalanta 1499553958        51.19077          4.75303       \n",
       " 2 Vanessa atalanta 1499572548        50.97084          4.38865       \n",
       " 3 Vanessa atalanta 1499565501        51.24053          4.39675       \n",
       " 4 Vanessa atalanta 1499558447        51.18613          5.03905       \n",
       " 5 Vanessa atalanta 1499580620        51.05133          5.03313       \n",
       " 6 Vanessa atalanta 1499572045        51.02209          3.67726       \n",
       " 7 Vanessa atalanta 1499577196        51.14976          4.46550       \n",
       " 8 Vanessa atalanta 1499560383        51.15802          3.46475       \n",
       " 9 Vanessa atalanta 1499556274        51.41943          4.47411       \n",
       "10 Vanessa atalanta 1499553992        51.05133          5.03313       \n",
       "# ... with 15,810 more rows, and 83 more variables: datasetKey <chr>,\n",
       "#   publishingOrgKey <chr>, publishingCountry <chr>, protocol <chr>,\n",
       "#   lastCrawled <chr>, lastParsed <chr>, crawlId <int>, basisOfRecord <chr>,\n",
       "#   individualCount <int>, lifeStage <chr>, establishmentMeans <chr>,\n",
       "#   taxonKey <int>, kingdomKey <int>, phylumKey <int>, classKey <int>,\n",
       "#   orderKey <int>, familyKey <int>, genusKey <int>, scientificName <chr>,\n",
       "#   kingdom <chr>, phylum <chr>, order <chr>, family <chr>, genus <chr>,\n",
       "#   genericName <chr>, specificEpithet <chr>, taxonRank <chr>,\n",
       "#   coordinateUncertaintyInMeters <dbl>, continent <chr>, stateProvince <chr>,\n",
       "#   year <int>, month <int>, day <int>, eventDate <chr>, lastInterpreted <chr>,\n",
       "#   references <chr>, license <chr>, geodeticDatum <chr>, class <chr>,\n",
       "#   countryCode <chr>, country <chr>, rightsHolder <chr>, identifier <chr>,\n",
       "#   informationWithheld <chr>, nomenclaturalCode <chr>,\n",
       "#   dataGeneralizations <chr>, verbatimSRS <chr>, georeferenceRemarks <chr>,\n",
       "#   verbatimCoordinateSystem <chr>, municipality <chr>, datasetName <chr>,\n",
       "#   identificationVerificationStatus <chr>, language <chr>, gbifID <chr>,\n",
       "#   occurrenceID <chr>, type <chr>, taxonID <chr>, vernacularName <chr>,\n",
       "#   institutionCode <chr>, ownerInstitutionCode <chr>, datasetID <chr>,\n",
       "#   samplingProtocol <chr>, accessRights <chr>, occurrenceRemarks <chr>,\n",
       "#   behavior <chr>, elevation <dbl>, elevationAccuracy <dbl>, modified <chr>,\n",
       "#   recordNumber <chr>, verbatimEventDate <chr>, locality <chr>,\n",
       "#   recordedBy <chr>, locationID <chr>, identifiedBy <chr>, sex <chr>,\n",
       "#   catalogNumber <chr>, collectionCode <chr>, dateIdentified <chr>,\n",
       "#   verbatimLocality <chr>, `http://unknown.org/occurrenceDetails` <chr>,\n",
       "#   rights <chr>, eventTime <chr>, identificationID <chr>\n"
      ]
     },
     "metadata": {},
     "output_type": "display_data"
    }
   ],
   "source": [
    "head(occurrences)"
   ]
  },
  {
   "cell_type": "markdown",
   "metadata": {
    "slideshow": {
     "slide_type": "subslide"
    }
   },
   "source": [
    "The interesting part is the `data` itself:"
   ]
  },
  {
   "cell_type": "code",
   "execution_count": 24,
   "metadata": {
    "slideshow": {
     "slide_type": "fragment"
    }
   },
   "outputs": [
    {
     "data": {
      "text/html": [
       "<table>\n",
       "<thead><tr><th scope=col>decimalLongitude</th><th scope=col>decimalLatitude</th><th scope=col>eventDate</th><th scope=col>scientificName</th></tr></thead>\n",
       "<tbody>\n",
       "\t<tr><td>4.75303                        </td><td>51.19077                       </td><td>2016-01-28T00:00:00.000+0000   </td><td>Vanessa atalanta Linnaeus, 1758</td></tr>\n",
       "\t<tr><td>4.38865                        </td><td>50.97084                       </td><td>2016-01-05T00:00:00.000+0000   </td><td>Vanessa atalanta Linnaeus, 1758</td></tr>\n",
       "\t<tr><td>4.39675                        </td><td>51.24053                       </td><td>2016-01-10T00:00:00.000+0000   </td><td>Vanessa atalanta Linnaeus, 1758</td></tr>\n",
       "\t<tr><td>5.03905                        </td><td>51.18613                       </td><td>2016-01-25T00:00:00.000+0000   </td><td>Vanessa atalanta Linnaeus, 1758</td></tr>\n",
       "\t<tr><td>5.03313                        </td><td>51.05133                       </td><td>2016-01-28T00:00:00.000+0000   </td><td>Vanessa atalanta Linnaeus, 1758</td></tr>\n",
       "\t<tr><td>3.67726                        </td><td>51.02209                       </td><td>2016-01-26T00:00:00.000+0000   </td><td>Vanessa atalanta Linnaeus, 1758</td></tr>\n",
       "</tbody>\n",
       "</table>\n"
      ],
      "text/latex": [
       "\\begin{tabular}{r|llll}\n",
       " decimalLongitude & decimalLatitude & eventDate & scientificName\\\\\n",
       "\\hline\n",
       "\t 4.75303                         & 51.19077                        & 2016-01-28T00:00:00.000+0000    & Vanessa atalanta Linnaeus, 1758\\\\\n",
       "\t 4.38865                         & 50.97084                        & 2016-01-05T00:00:00.000+0000    & Vanessa atalanta Linnaeus, 1758\\\\\n",
       "\t 4.39675                         & 51.24053                        & 2016-01-10T00:00:00.000+0000    & Vanessa atalanta Linnaeus, 1758\\\\\n",
       "\t 5.03905                         & 51.18613                        & 2016-01-25T00:00:00.000+0000    & Vanessa atalanta Linnaeus, 1758\\\\\n",
       "\t 5.03313                         & 51.05133                        & 2016-01-28T00:00:00.000+0000    & Vanessa atalanta Linnaeus, 1758\\\\\n",
       "\t 3.67726                         & 51.02209                        & 2016-01-26T00:00:00.000+0000    & Vanessa atalanta Linnaeus, 1758\\\\\n",
       "\\end{tabular}\n"
      ],
      "text/markdown": [
       "\n",
       "decimalLongitude | decimalLatitude | eventDate | scientificName | \n",
       "|---|---|---|---|---|---|\n",
       "| 4.75303                         | 51.19077                        | 2016-01-28T00:00:00.000+0000    | Vanessa atalanta Linnaeus, 1758 | \n",
       "| 4.38865                         | 50.97084                        | 2016-01-05T00:00:00.000+0000    | Vanessa atalanta Linnaeus, 1758 | \n",
       "| 4.39675                         | 51.24053                        | 2016-01-10T00:00:00.000+0000    | Vanessa atalanta Linnaeus, 1758 | \n",
       "| 5.03905                         | 51.18613                        | 2016-01-25T00:00:00.000+0000    | Vanessa atalanta Linnaeus, 1758 | \n",
       "| 5.03313                         | 51.05133                        | 2016-01-28T00:00:00.000+0000    | Vanessa atalanta Linnaeus, 1758 | \n",
       "| 3.67726                         | 51.02209                        | 2016-01-26T00:00:00.000+0000    | Vanessa atalanta Linnaeus, 1758 | \n",
       "\n",
       "\n"
      ],
      "text/plain": [
       "  decimalLongitude decimalLatitude eventDate                   \n",
       "1 4.75303          51.19077        2016-01-28T00:00:00.000+0000\n",
       "2 4.38865          50.97084        2016-01-05T00:00:00.000+0000\n",
       "3 4.39675          51.24053        2016-01-10T00:00:00.000+0000\n",
       "4 5.03905          51.18613        2016-01-25T00:00:00.000+0000\n",
       "5 5.03313          51.05133        2016-01-28T00:00:00.000+0000\n",
       "6 3.67726          51.02209        2016-01-26T00:00:00.000+0000\n",
       "  scientificName                 \n",
       "1 Vanessa atalanta Linnaeus, 1758\n",
       "2 Vanessa atalanta Linnaeus, 1758\n",
       "3 Vanessa atalanta Linnaeus, 1758\n",
       "4 Vanessa atalanta Linnaeus, 1758\n",
       "5 Vanessa atalanta Linnaeus, 1758\n",
       "6 Vanessa atalanta Linnaeus, 1758"
      ]
     },
     "metadata": {},
     "output_type": "display_data"
    }
   ],
   "source": [
    "occ_Vanessa_BE <- occurrences$data\n",
    "head(occ_Vanessa_BE[c(\"decimalLongitude\", \"decimalLatitude\", \"eventDate\",\n",
    "                     \"scientificName\")])"
   ]
  },
  {
   "cell_type": "markdown",
   "metadata": {
    "slideshow": {
     "slide_type": "slide"
    }
   },
   "source": [
    "# <center>Temporal occurrence distribution<center>\n",
    "Retrieving the monthly occurrence distribution:"
   ]
  },
  {
   "cell_type": "code",
   "execution_count": 13,
   "metadata": {
    "slideshow": {
     "slide_type": "fragment"
    }
   },
   "outputs": [],
   "source": [
    "counts_per_month <- count(occ_Vanessa_BE, month)\n",
    "gg_month <- ggplot(counts_per_month, aes(y = n, x = month)) +\n",
    "   geom_bar(stat=\"identity\", fill = \"#0072B2\") +\n",
    "   scale_x_continuous(breaks=seq(1,12,1), \n",
    "                      labels = c(\"Jan\", \"Feb\", \"Mar\", \"Apr\", \"May\", \"Jun\", \n",
    "                                 \"Jul\", \"Aug\", \"Sep\", \"Oct\", \"Nov\", \"Dec\"))"
   ]
  },
  {
   "cell_type": "code",
   "execution_count": 14,
   "metadata": {
    "slideshow": {
     "slide_type": "skip"
    }
   },
   "outputs": [],
   "source": [
    "options(repr.plot.width=8, repr.plot.height=3)"
   ]
  },
  {
   "cell_type": "code",
   "execution_count": 15,
   "metadata": {
    "slideshow": {
     "slide_type": "subslide"
    }
   },
   "outputs": [
    {
     "data": {},
     "metadata": {},
     "output_type": "display_data"
    },
    {
     "data": {
      "image/png": "[encoded data removed]",
      "text/plain": [
       "plot without title"
      ]
     },
     "metadata": {},
     "output_type": "display_data"
    }
   ],
   "source": [
    "gg_month"
   ]
  },
  {
   "cell_type": "markdown",
   "metadata": {
    "slideshow": {
     "slide_type": "slide"
    }
   },
   "source": [
    "# <center>Geographical occurrence distribution<center>"
   ]
  },
  {
   "cell_type": "markdown",
   "metadata": {
    "slideshow": {
     "slide_type": "fragment"
    }
   },
   "source": [
    "## <center>`gbifmap`<center>\n",
    "Plot function in RGBIF: *`gbifmap`*"
   ]
  },
  {
   "cell_type": "code",
   "execution_count": 16,
   "metadata": {
    "slideshow": {
     "slide_type": "skip"
    }
   },
   "outputs": [],
   "source": [
    "options(repr.plot.width=6, repr.plot.height=4)"
   ]
  },
  {
   "cell_type": "code",
   "execution_count": 18,
   "metadata": {
    "slideshow": {
     "slide_type": "subslide"
    }
   },
   "outputs": [
    {
     "name": "stderr",
     "output_type": "stream",
     "text": [
      "Rendering map...plotting 15820 points\n"
     ]
    },
    {
     "data": {},
     "metadata": {},
     "output_type": "display_data"
    },
    {
     "data": {
      "image/png": "[encoded data removed]",
      "text/plain": [
       "plot without title"
      ]
     },
     "metadata": {},
     "output_type": "display_data"
    }
   ],
   "source": [
    "rgbif::gbifmap(input = occ_Vanessa_BE, mapdatabase = \"world\", region = \"Belgium\")"
   ]
  },
  {
   "cell_type": "markdown",
   "metadata": {
    "slideshow": {
     "slide_type": "subslide"
    }
   },
   "source": [
    "Basic output. Perfectly for quick screening, but we should get this cleaner..."
   ]
  },
  {
   "cell_type": "markdown",
   "metadata": {
    "slideshow": {
     "slide_type": "subslide"
    }
   },
   "source": [
    "### <center>HOW?<center>\n",
    "We have a dataframe with geographical coordinates (*latitude* and *longitude*) of the occurrences.\n",
    "\n",
    "We could:"
   ]
  },
  {
   "cell_type": "markdown",
   "metadata": {
    "slideshow": {
     "slide_type": "fragment"
    }
   },
   "source": [
    "\n",
    "- divide Belgium in square cells\n",
    "- __count__ the number of occurrences with coordinates within each grid cell\n",
    "* plot grid and counts (*heatmap*)"
   ]
  },
  {
   "cell_type": "markdown",
   "metadata": {
    "slideshow": {
     "slide_type": "subslide"
    }
   },
   "source": [
    "### <center>Occurrence geographical distribution based on UTM-10 grid<center>\n",
    "Let's start from the UTM-10 grid for Belgium, i.e. a set of cells covering all Belgium by means of squares with a side length of 10 km.\n",
    "<center>![UTM](../images/UTM-zones.jpg)<center>"
   ]
  },
  {
   "cell_type": "markdown",
   "metadata": {
    "slideshow": {
     "slide_type": "subslide"
    }
   },
   "source": [
    "Quickly screen the UTM-10 grid for Belgium: "
   ]
  },
  {
   "cell_type": "code",
   "execution_count": 9,
   "metadata": {
    "slideshow": {
     "slide_type": "fragment"
    }
   },
   "outputs": [
    {
     "name": "stdout",
     "output_type": "stream",
     "text": [
      "OGR data source with driver: GeoJSON \n",
      "Source: \"../data/external/EUgrid10.geojson\", layer: \"EUgrid10\"\n",
      "with 377 features\n",
      "It has 3 fields\n"
     ]
    },
    {
     "data": {
      "image/png": "[encoded data removed]",
      "text/plain": [
       "plot without title"
      ]
     },
     "metadata": {},
     "output_type": "display_data"
    }
   ],
   "source": [
    "eu_10grid <-  readOGR(\"../data/external/EUgrid10.geojson\")\n",
    "plot(eu_10grid)"
   ]
  },
  {
   "cell_type": "markdown",
   "metadata": {
    "slideshow": {
     "slide_type": "subslide"
    }
   },
   "source": [
    "we need this regularly... \n",
    "so we've written a little function for it: \n",
    "<center>`counts_pts_in_polygons`<center>"
   ]
  },
  {
   "cell_type": "code",
   "execution_count": 26,
   "metadata": {
    "slideshow": {
     "slide_type": "subslide"
    }
   },
   "outputs": [
    {
     "name": "stdout",
     "output_type": "stream",
     "text": [
      "[1] \"Polygons have no CRS\"\n",
      "[1] \"Transforming polygon CRS...\"\n",
      "[1] \"Polygons CRS: +init=epsg:4326\"\n"
     ]
    }
   ],
   "source": [
    "source(\"counts_pts_in_polygons.R\")\n",
    "polygons_with_counts_df <- counts_pts_in_polygons(occ_Vanessa_BE, eu_10grid)"
   ]
  },
  {
   "cell_type": "markdown",
   "metadata": {
    "slideshow": {
     "slide_type": "skip"
    }
   },
   "source": [
    " Remove squares contanining no occurrences"
   ]
  },
  {
   "cell_type": "code",
   "execution_count": 21,
   "metadata": {
    "slideshow": {
     "slide_type": "skip"
    }
   },
   "outputs": [],
   "source": [
    "polygons_with_counts_df_subset <- subset(polygons_with_counts_df, value != 0)"
   ]
  },
  {
   "cell_type": "markdown",
   "metadata": {
    "slideshow": {
     "slide_type": "skip"
    }
   },
   "source": [
    "Choose a color palette\n",
    "```r\n",
    "pal <- colorNumeric(\"viridis\", domain = NULL)\n",
    "```"
   ]
  },
  {
   "cell_type": "markdown",
   "metadata": {
    "slideshow": {
     "slide_type": "subslide"
    }
   },
   "source": [
    "And make a leaflet map, `n_occ_grid_Vanessa_BE_leaflet`"
   ]
  },
  {
   "cell_type": "markdown",
   "metadata": {
    "slideshow": {
     "slide_type": "subslide"
    }
   },
   "source": [
    "```r\n",
    "n_occ_grid_Vanessa_BE_leaflet <- leaflet() %>% \n",
    "  addTiles()  %>% \n",
    "  addPolygons(\n",
    "      data = polygons_with_counts_df_subset,\n",
    "      stroke = FALSE, \n",
    "      fillColor = ~pal(value),\n",
    "      fillOpacity = 0.7,\n",
    "      smoothFactor = 0.1,\n",
    "      label = ~paste(value, \n",
    "                     species, \n",
    "                     sep = \": \"))\n",
    "```"
   ]
  },
  {
   "cell_type": "markdown",
   "metadata": {
    "slideshow": {
     "slide_type": "skip"
    }
   },
   "source": [
    "```r\n",
    "  addLegend(pal = pal, \n",
    "            values = polygons_with_counts_df_subset$value, \n",
    "            opacity = 1.0,\n",
    "            title = \"OCCURRENCES\")\n",
    "```"
   ]
  },
  {
   "cell_type": "markdown",
   "metadata": {
    "slideshow": {
     "slide_type": "skip"
    }
   },
   "source": [
    "Saving the map as HTML file\n",
    "```r\n",
    "library(htmlwidgets)\n",
    "saveWidget(widget = n_occ_grid_Vanessa_BE_leaflet,\n",
    "           file = \"EUgrid10_occ_Vanessa_BE_2016.html\")\n",
    "file.rename(from = \"./EUgrid10_occ_Vanessa_BE_2016.html\", \n",
    "            to = \"../data/processed/EUgrid10_occ_Vanessa_BE_2016.html\")\n",
    "```"
   ]
  },
  {
   "cell_type": "code",
   "execution_count": 22,
   "metadata": {
    "scrolled": true,
    "slideshow": {
     "slide_type": "subslide"
    }
   },
   "outputs": [
    {
     "data": {
      "text/html": [
       "<iframe src=\"../data/output/EUgrid10_occ_Vanessa_BE_2016.html\" width=1000, height=500></iframe> "
      ]
     },
     "metadata": {},
     "output_type": "display_data"
    }
   ],
   "source": [
    "IRdisplay::display_html('<iframe src=\"../data/output/EUgrid10_occ_Vanessa_BE_2016.html\" width=1000, height=500></iframe> ')"
   ]
  },
  {
   "cell_type": "markdown",
   "metadata": {
    "slideshow": {
     "slide_type": "slide"
    }
   },
   "source": [
    "## <center>More data to download?<center>\n",
    "* `occ_data` has a hard limit of 200000!\n",
    "* use asynchronuous download function: `occ_download`\n",
    "\n",
    "But that's another story...\n",
    "\n",
    "* Do you want to know more about `occ_download` and in general about the potential of using GBIF in R?  \n",
    "* Would you like to produce maps like this one?"
   ]
  },
  {
   "cell_type": "code",
   "execution_count": 28,
   "metadata": {
    "slideshow": {
     "slide_type": "subslide"
    }
   },
   "outputs": [
    {
     "data": {
      "text/html": [
       "<iframe src=\"../extdata/EUgrid10_occ_Vanessa&Phylloscopus_SE_2016.html\" width=1000, height=450></iframe> "
      ]
     },
     "metadata": {},
     "output_type": "display_data"
    }
   ],
   "source": [
    "IRdisplay::display_html('<iframe src=\"../extdata/EUgrid10_occ_Vanessa&Phylloscopus_SE_2016.html\" width=1000, height=450></iframe> ')"
   ]
  },
  {
   "cell_type": "markdown",
   "metadata": {
    "slideshow": {
     "slide_type": "subslide"
    }
   },
   "source": [
    "### <center>Coming soon: a blog post at [LifeWatch INBO](https://lifewatch.inbo.be/blog/)!<center>\n",
    "\n",
    "<center>Download all INBO tutorials [here](https://github.com/inbo/lifewatch-meeting-2018) and try yourself!<center>\n",
    "\n",
    "![ROpenScience](..\\images\\ropensci.png)\n",
    "<center>**Open source for open science**<center>\n",
    " \n",
    "<center>[@LifeWatchINBO](https://twitter.com/LifeWatchINBO)<center>\n",
    "<center>[@INBOVlaanderen](https://twitter.com/INBOVlaanderen)<center>\n",
    "\n",
    "<center>[INBO](https://www.inbo.be/)<center>\n"
   ]
  }
 ],
 "metadata": {
  "celltoolbar": "Slideshow",
  "kernelspec": {
   "display_name": "R",
   "language": "R",
   "name": "ir"
  },
  "language_info": {
   "codemirror_mode": "r",
   "file_extension": ".r",
   "mimetype": "text/x-r-source",
   "name": "R",
   "pygments_lexer": "r",
   "version": "3.4.2"
  }
 },
 "nbformat": 4,
 "nbformat_minor": 2
}
